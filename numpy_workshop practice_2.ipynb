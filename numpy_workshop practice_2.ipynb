{
 "cells": [
  {
   "cell_type": "code",
   "execution_count": null,
   "id": "439667e0-2a62-448f-ab11-f90abba1a909",
   "metadata": {},
   "outputs": [],
   "source": [
    "###Numpy workshop from IBM Course"
   ]
  },
  {
   "cell_type": "code",
   "execution_count": 1,
   "id": "9f5ff422-e3fb-4981-acdf-fb9377bf8da6",
   "metadata": {},
   "outputs": [
    {
     "name": "stdout",
     "output_type": "stream",
     "text": [
      "Requirement already satisfied: numpy in ./anaconda3/lib/python3.10/site-packages (1.23.5)\n"
     ]
    }
   ],
   "source": [
    "!pip install numpy"
   ]
  },
  {
   "cell_type": "code",
   "execution_count": 10,
   "id": "132e6065-1df0-490f-863d-58c5fdd5f588",
   "metadata": {},
   "outputs": [],
   "source": [
    "import numpy as np"
   ]
  },
  {
   "cell_type": "code",
   "execution_count": 3,
   "id": "ce4b5374-856d-48df-a02f-ea381595bc43",
   "metadata": {},
   "outputs": [
    {
     "data": {
      "text/plain": [
       "[2, 3, 4, 5, 6, 9]"
      ]
     },
     "execution_count": 3,
     "metadata": {},
     "output_type": "execute_result"
    }
   ],
   "source": [
    "#first make list then convert to numpy array\n",
    "L=[2,3,4,5,6,9]\n",
    "L\n"
   ]
  },
  {
   "cell_type": "code",
   "execution_count": 11,
   "id": "70a4377a-6ec1-4ad9-bb3d-c904746a68d1",
   "metadata": {},
   "outputs": [
    {
     "data": {
      "text/plain": [
       "array([2, 3, 4, 5, 6, 9])"
      ]
     },
     "execution_count": 11,
     "metadata": {},
     "output_type": "execute_result"
    }
   ],
   "source": [
    "arr=np.array(L)\n",
    "arr"
   ]
  },
  {
   "cell_type": "code",
   "execution_count": 12,
   "id": "bd00f910-2219-4162-8f2d-6d07c24fc9a6",
   "metadata": {},
   "outputs": [
    {
     "data": {
      "text/plain": [
       "array([[1, 2, 3, 4, 5, 6],\n",
       "       [9, 8, 7, 6, 5, 4]])"
      ]
     },
     "execution_count": 12,
     "metadata": {},
     "output_type": "execute_result"
    }
   ],
   "source": [
    "#list in list and converted to array and it will show amatrix\n",
    "L1=[[1,2,3,4,5,6],[9,8,7,6,5,4]]\n",
    "arr1=np.array(L1)\n",
    "arr1"
   ]
  },
  {
   "cell_type": "code",
   "execution_count": 14,
   "id": "fdb64081-f322-4f4e-84cf-7cf028fc9350",
   "metadata": {},
   "outputs": [
    {
     "data": {
      "text/plain": [
       "array([1, 2, 3, 4, 5, 6, 7, 8, 9])"
      ]
     },
     "execution_count": 14,
     "metadata": {},
     "output_type": "execute_result"
    }
   ],
   "source": [
    "#for array make,  a new function called arrange function is used like range in python\n",
    "arr2=np.arange(1,10)\n",
    "arr2"
   ]
  },
  {
   "cell_type": "code",
   "execution_count": 15,
   "id": "a6ed4ef0-93f2-4fe6-9165-1902def46381",
   "metadata": {},
   "outputs": [
    {
     "data": {
      "text/plain": [
       "array([1, 3, 5, 7, 9])"
      ]
     },
     "execution_count": 15,
     "metadata": {},
     "output_type": "execute_result"
    }
   ],
   "source": [
    "arr2=np.arange(1,10,2)\n",
    "arr2"
   ]
  },
  {
   "cell_type": "code",
   "execution_count": 21,
   "id": "bb85b49a-bd1e-4ca5-b905-b811ae336877",
   "metadata": {},
   "outputs": [
    {
     "data": {
      "text/plain": [
       "array([[0., 0., 0., 0.],\n",
       "       [0., 0., 0., 0.],\n",
       "       [0., 0., 0., 0.],\n",
       "       [0., 0., 0., 0.]])"
      ]
     },
     "execution_count": 21,
     "metadata": {},
     "output_type": "execute_result"
    }
   ],
   "source": [
    "#Zero function , all the elements will be 0\n",
    "arr3=np.zeros((4,4))\n",
    "arr3"
   ]
  },
  {
   "cell_type": "code",
   "execution_count": 22,
   "id": "62bdaa46-b298-4de3-a949-4c297228f94f",
   "metadata": {},
   "outputs": [
    {
     "data": {
      "text/plain": [
       "array([0., 0., 0., 0., 0., 0.])"
      ]
     },
     "execution_count": 22,
     "metadata": {},
     "output_type": "execute_result"
    }
   ],
   "source": [
    "arr4=np.zeros(6)\n",
    "arr4"
   ]
  },
  {
   "cell_type": "code",
   "execution_count": 23,
   "id": "e6a787ea-d8d3-40f6-a10d-4857102b91f3",
   "metadata": {},
   "outputs": [
    {
     "data": {
      "text/plain": [
       "array([[1., 1., 1., 1., 1.],\n",
       "       [1., 1., 1., 1., 1.],\n",
       "       [1., 1., 1., 1., 1.],\n",
       "       [1., 1., 1., 1., 1.]])"
      ]
     },
     "execution_count": 23,
     "metadata": {},
     "output_type": "execute_result"
    }
   ],
   "source": [
    "#one function, all the elements are 1 in 2d matrix\n",
    "np.ones((4,5))\n"
   ]
  },
  {
   "cell_type": "code",
   "execution_count": 24,
   "id": "336ff481-ac26-45cc-b3eb-c34f60aae2e7",
   "metadata": {},
   "outputs": [
    {
     "data": {
      "text/plain": [
       "array([[[1., 1., 1., 1., 1.],\n",
       "        [1., 1., 1., 1., 1.],\n",
       "        [1., 1., 1., 1., 1.]],\n",
       "\n",
       "       [[1., 1., 1., 1., 1.],\n",
       "        [1., 1., 1., 1., 1.],\n",
       "        [1., 1., 1., 1., 1.]],\n",
       "\n",
       "       [[1., 1., 1., 1., 1.],\n",
       "        [1., 1., 1., 1., 1.],\n",
       "        [1., 1., 1., 1., 1.]],\n",
       "\n",
       "       [[1., 1., 1., 1., 1.],\n",
       "        [1., 1., 1., 1., 1.],\n",
       "        [1., 1., 1., 1., 1.]]])"
      ]
     },
     "execution_count": 24,
     "metadata": {},
     "output_type": "execute_result"
    }
   ],
   "source": [
    "#making 3D matrix, where 4 is matrix no and 3 is row 5 is column\n",
    "np.ones((4,3,5))"
   ]
  },
  {
   "cell_type": "code",
   "execution_count": 25,
   "id": "4e217610-f291-4d87-a970-f7cede4e178c",
   "metadata": {},
   "outputs": [
    {
     "data": {
      "text/plain": [
       "array([10, 10, 10, 10, 10])"
      ]
     },
     "execution_count": 25,
     "metadata": {},
     "output_type": "execute_result"
    }
   ],
   "source": [
    "#full function with constant no, where 5 is id no\n",
    "np.full(5,10)"
   ]
  },
  {
   "cell_type": "code",
   "execution_count": 26,
   "id": "e8acbdee-818a-4ed4-be93-120b3c997e46",
   "metadata": {},
   "outputs": [
    {
     "data": {
      "text/plain": [
       "array([[10, 10, 10],\n",
       "       [10, 10, 10],\n",
       "       [10, 10, 10],\n",
       "       [10, 10, 10]])"
      ]
     },
     "execution_count": 26,
     "metadata": {},
     "output_type": "execute_result"
    }
   ],
   "source": [
    "np.full((4,3),10)"
   ]
  },
  {
   "cell_type": "code",
   "execution_count": 27,
   "id": "007b3ac1-5ce2-4777-ad98-704e3908043b",
   "metadata": {},
   "outputs": [
    {
     "data": {
      "text/plain": [
       "array([[1., 0., 0., 0., 0.],\n",
       "       [0., 1., 0., 0., 0.],\n",
       "       [0., 0., 1., 0., 0.],\n",
       "       [0., 0., 0., 1., 0.],\n",
       "       [0., 0., 0., 0., 1.]])"
      ]
     },
     "execution_count": 27,
     "metadata": {},
     "output_type": "execute_result"
    }
   ],
   "source": [
    "#identity matrix, where all the diagonal will be one\n",
    "np.eye(5)"
   ]
  },
  {
   "cell_type": "code",
   "execution_count": 30,
   "id": "d775ad0c-1490-48d2-a571-91e1d84e8c88",
   "metadata": {},
   "outputs": [
    {
     "data": {
      "text/plain": [
       "array([ 0.,  2.,  4.,  6.,  8., 10.])"
      ]
     },
     "execution_count": 30,
     "metadata": {},
     "output_type": "execute_result"
    }
   ],
   "source": [
    "#linespace function use for  specific no  distribution of specific no in range\n",
    "np.linspace(0,10,6)"
   ]
  },
  {
   "cell_type": "code",
   "execution_count": 31,
   "id": "0975fb58-6b1e-44e1-b38b-bee2b251c329",
   "metadata": {},
   "outputs": [
    {
     "data": {
      "text/plain": [
       "array([-1.        , -0.77777778, -0.55555556, -0.33333333, -0.11111111,\n",
       "        0.11111111,  0.33333333,  0.55555556,  0.77777778,  1.        ])"
      ]
     },
     "execution_count": 31,
     "metadata": {},
     "output_type": "execute_result"
    }
   ],
   "source": [
    "np.linspace(-1,1,10)"
   ]
  },
  {
   "cell_type": "code",
   "execution_count": 34,
   "id": "2922fa80-9f98-4f93-9fd5-44496a107cf2",
   "metadata": {},
   "outputs": [
    {
     "data": {
      "text/plain": [
       "array([1.000e+00, 4.000e+00, 1.600e+01, 6.400e+01, 2.560e+02, 1.024e+03,\n",
       "       4.096e+03])"
      ]
     },
     "execution_count": 34,
     "metadata": {},
     "output_type": "execute_result"
    }
   ],
   "source": [
    "#logspace func use for specific no of distribution with logbase\n",
    "np.logspace(0,12,7,base=2)"
   ]
  },
  {
   "cell_type": "code",
   "execution_count": 36,
   "id": "be58ed9d-cb27-4c29-bafe-9d0158ff1582",
   "metadata": {},
   "outputs": [
    {
     "data": {
      "text/plain": [
       "array([[4, 0, 0],\n",
       "       [0, 5, 0],\n",
       "       [0, 0, 6]])"
      ]
     },
     "execution_count": 36,
     "metadata": {},
     "output_type": "execute_result"
    }
   ],
   "source": [
    "#diag() function show your element inmatrix in diagonal\n",
    "np.diag([4,5,6])"
   ]
  },
  {
   "cell_type": "code",
   "execution_count": 37,
   "id": "94ff4ac8-2832-4247-b9cf-d2c6b97cc2af",
   "metadata": {},
   "outputs": [
    {
     "data": {
      "text/plain": [
       "array([0.74226115, 0.9092504 , 0.91534399, 0.40139542])"
      ]
     },
     "execution_count": 37,
     "metadata": {},
     "output_type": "execute_result"
    }
   ],
   "source": [
    "#random value generator\n",
    "#like range() function in python we can generate ramdom with numpy but with rand function\n",
    "np.random.rand(4)"
   ]
  },
  {
   "cell_type": "code",
   "execution_count": 38,
   "id": "276bd53f-77de-4eb7-a783-172fcac201c0",
   "metadata": {},
   "outputs": [
    {
     "data": {
      "text/plain": [
       "array([[0.99522932, 0.88486492, 0.85207453, 0.98725333],\n",
       "       [0.37058956, 0.59388667, 0.23732345, 0.74401014],\n",
       "       [0.32393356, 0.36849811, 0.13014851, 0.39941552]])"
      ]
     },
     "execution_count": 38,
     "metadata": {},
     "output_type": "execute_result"
    }
   ],
   "source": [
    "#for creating 2D array with random no\n",
    "np.random.rand(3,4)"
   ]
  },
  {
   "cell_type": "code",
   "execution_count": 40,
   "id": "a57bfdb1-af11-4d96-b981-bee8d7a51312",
   "metadata": {},
   "outputs": [
    {
     "data": {
      "text/plain": [
       "array([[[0.97345796, 0.43399474, 0.55609683, 0.11524614, 0.28323721],\n",
       "        [0.10674743, 0.08706279, 0.09339892, 0.33743054, 0.21236089],\n",
       "        [0.40026162, 0.40296985, 0.84847141, 0.53585798, 0.50829249],\n",
       "        [0.54612893, 0.47751117, 0.80628779, 0.32888556, 0.22805645]],\n",
       "\n",
       "       [[0.46872738, 0.63962684, 0.94299268, 0.09929475, 0.03332603],\n",
       "        [0.16749643, 0.91718144, 0.330209  , 0.04634932, 0.4698342 ],\n",
       "        [0.77551035, 0.69088237, 0.57675089, 0.80079186, 0.29743741],\n",
       "        [0.54393536, 0.36623261, 0.98445891, 0.64607916, 0.14435006]]])"
      ]
     },
     "execution_count": 40,
     "metadata": {},
     "output_type": "execute_result"
    }
   ],
   "source": [
    "#for creating 3D array where 2 is matrix no 0 to 1\n",
    "np.random.rand(2,4,5)\n",
    "\n"
   ]
  },
  {
   "cell_type": "code",
   "execution_count": 41,
   "id": "9da346ae-9e4e-4b79-a823-0349ac998f58",
   "metadata": {},
   "outputs": [
    {
     "data": {
      "text/plain": [
       "array([ 0.13753888,  1.06338596,  0.65971361, -0.67418666,  0.77753083])"
      ]
     },
     "execution_count": 41,
     "metadata": {},
     "output_type": "execute_result"
    }
   ],
   "source": [
    "#for normal distribution no(-1 to1) we can use randn()function\n",
    "np.random.randn(5)"
   ]
  },
  {
   "cell_type": "code",
   "execution_count": 42,
   "id": "1ead222a-a08c-4cde-ad38-0208933e045a",
   "metadata": {},
   "outputs": [
    {
     "data": {
      "text/plain": [
       "array([[-1.05667506, -0.75353422, -0.1643011 ,  0.27265039,  0.31520063,\n",
       "        -2.00993152],\n",
       "       [ 0.92252999,  0.79998985, -1.21291121, -0.15612056, -0.64255793,\n",
       "        -0.07580432],\n",
       "       [-1.1378524 ,  0.23718619,  0.59487632, -0.65479825, -0.3674681 ,\n",
       "         0.80390303],\n",
       "       [ 0.21768513,  0.51992024, -0.04634944, -1.19237171,  0.00454881,\n",
       "        -1.68945952],\n",
       "       [ 0.34004492, -0.24722342, -0.04612565, -0.79959502, -1.20282369,\n",
       "         0.1864637 ]])"
      ]
     },
     "execution_count": 42,
     "metadata": {},
     "output_type": "execute_result"
    }
   ],
   "source": [
    "#for 2D\n",
    "np.random.randn(5,6)\n"
   ]
  },
  {
   "cell_type": "code",
   "execution_count": 44,
   "id": "c489bc16-07df-49cd-bf08-661b80c70735",
   "metadata": {},
   "outputs": [
    {
     "data": {
      "text/plain": [
       "array([0, 0, 5, 5, 9, 3, 9, 8, 5, 6])"
      ]
     },
     "execution_count": 44,
     "metadata": {},
     "output_type": "execute_result"
    }
   ],
   "source": [
    "#Find the random no in range which will be integer bu randint() function\n",
    "np.random.randint(0,10,10)\n",
    "\n"
   ]
  },
  {
   "cell_type": "code",
   "execution_count": 45,
   "id": "53d13df9-dac0-415b-800a-5131dc3d7346",
   "metadata": {},
   "outputs": [
    {
     "data": {
      "text/plain": [
       "array([7, 6])"
      ]
     },
     "execution_count": 45,
     "metadata": {},
     "output_type": "execute_result"
    }
   ],
   "source": [
    "np.random.randint(0,10,2)"
   ]
  },
  {
   "cell_type": "code",
   "execution_count": 49,
   "id": "edc81deb-1d9b-4b86-b5e3-cf41d06a6e13",
   "metadata": {},
   "outputs": [
    {
     "data": {
      "text/plain": [
       "array([7, 2, 5, 6, 7, 4, 0, 0, 6, 0])"
      ]
     },
     "execution_count": 49,
     "metadata": {},
     "output_type": "execute_result"
    }
   ],
   "source": [
    "#convert array to matrix\n",
    "#first define an array and reshape it\n",
    "arr3=np.random.randint(0,10,10)\n",
    "arr3"
   ]
  },
  {
   "cell_type": "code",
   "execution_count": 51,
   "id": "ead35d9d-f733-4abe-b009-5b0413906a8e",
   "metadata": {},
   "outputs": [
    {
     "data": {
      "text/plain": [
       "array([[7, 2],\n",
       "       [5, 6],\n",
       "       [7, 4],\n",
       "       [0, 0],\n",
       "       [6, 0]])"
      ]
     },
     "execution_count": 51,
     "metadata": {},
     "output_type": "execute_result"
    }
   ],
   "source": [
    "arr3.reshape(5,2)"
   ]
  },
  {
   "cell_type": "code",
   "execution_count": 54,
   "id": "3bb3141f-859b-4c29-8b26-36d379d86975",
   "metadata": {},
   "outputs": [
    {
     "data": {
      "text/plain": [
       "array([[7, 9, 6],\n",
       "       [8, 3, 7],\n",
       "       [9, 3, 1],\n",
       "       [9, 0, 4]])"
      ]
     },
     "execution_count": 54,
     "metadata": {},
     "output_type": "execute_result"
    }
   ],
   "source": [
    "#directly created matrix by specifying row and columnb\n",
    "arr4=np.random.randint(0,10,(4,3))\n",
    "arr4"
   ]
  },
  {
   "cell_type": "code",
   "execution_count": 56,
   "id": "21b706a5-5180-4db2-9094-d1348319508e",
   "metadata": {},
   "outputs": [
    {
     "data": {
      "text/plain": [
       "array([[7, 9, 6, 8],\n",
       "       [3, 7, 9, 3],\n",
       "       [1, 9, 0, 4]])"
      ]
     },
     "execution_count": 56,
     "metadata": {},
     "output_type": "execute_result"
    }
   ],
   "source": [
    "#if want to different shape matrix\n",
    "arr4.reshape(3,4)"
   ]
  },
  {
   "cell_type": "code",
   "execution_count": 57,
   "id": "cbcb4653-da23-4258-9d28-96bd15e3952f",
   "metadata": {},
   "outputs": [
    {
     "data": {
      "text/plain": [
       "array([[7, 9],\n",
       "       [6, 8],\n",
       "       [3, 7],\n",
       "       [9, 3],\n",
       "       [1, 9],\n",
       "       [0, 4]])"
      ]
     },
     "execution_count": 57,
     "metadata": {},
     "output_type": "execute_result"
    }
   ],
   "source": [
    "arr4.reshape(6,2)"
   ]
  },
  {
   "cell_type": "code",
   "execution_count": 58,
   "id": "b16d57da-fafb-446e-8f92-3d4bd781a6f7",
   "metadata": {},
   "outputs": [
    {
     "data": {
      "text/plain": [
       "9"
      ]
     },
     "execution_count": 58,
     "metadata": {},
     "output_type": "execute_result"
    }
   ],
   "source": [
    "#max ,min determine and its index by argmin or max\n",
    "arr4.max()"
   ]
  },
  {
   "cell_type": "code",
   "execution_count": 59,
   "id": "e7a77d3c-5215-4d0e-ab76-4669a500e514",
   "metadata": {},
   "outputs": [
    {
     "data": {
      "text/plain": [
       "1"
      ]
     },
     "execution_count": 59,
     "metadata": {},
     "output_type": "execute_result"
    }
   ],
   "source": [
    "arr4.argmax()"
   ]
  },
  {
   "cell_type": "code",
   "execution_count": 60,
   "id": "86579a91-009e-4430-8f4a-393b998f2c8d",
   "metadata": {},
   "outputs": [
    {
     "data": {
      "text/plain": [
       "10"
      ]
     },
     "execution_count": 60,
     "metadata": {},
     "output_type": "execute_result"
    }
   ],
   "source": [
    "arr4.argmin()"
   ]
  },
  {
   "cell_type": "code",
   "execution_count": 61,
   "id": "241bc2dc-4142-44d3-a4a1-246d099cfad7",
   "metadata": {},
   "outputs": [
    {
     "data": {
      "text/plain": [
       "0"
      ]
     },
     "execution_count": 61,
     "metadata": {},
     "output_type": "execute_result"
    }
   ],
   "source": [
    "arr4.min()"
   ]
  },
  {
   "cell_type": "code",
   "execution_count": 62,
   "id": "52420962-cc67-4ca5-a5cb-84a058c99477",
   "metadata": {},
   "outputs": [
    {
     "data": {
      "text/plain": [
       "2"
      ]
     },
     "execution_count": 62,
     "metadata": {},
     "output_type": "execute_result"
    }
   ],
   "source": [
    "#to find the dimention type\n",
    "arr4.ndim"
   ]
  },
  {
   "cell_type": "code",
   "execution_count": 63,
   "id": "7086c098-2d3c-4d21-bbbe-a05d9d838176",
   "metadata": {},
   "outputs": [
    {
     "data": {
      "text/plain": [
       "8"
      ]
     },
     "execution_count": 63,
     "metadata": {},
     "output_type": "execute_result"
    }
   ],
   "source": [
    "#to find the itemsize in array\n",
    "arr4.itemsize"
   ]
  },
  {
   "cell_type": "code",
   "execution_count": 64,
   "id": "c3f1fae3-c80d-4012-b3f2-462c18cb5cd1",
   "metadata": {},
   "outputs": [
    {
     "data": {
      "text/plain": [
       "dtype('int64')"
      ]
     },
     "execution_count": 64,
     "metadata": {},
     "output_type": "execute_result"
    }
   ],
   "source": [
    "#to find the data type\n",
    "arr4.dtype"
   ]
  },
  {
   "cell_type": "code",
   "execution_count": 65,
   "id": "2aa5691c-c394-4f6a-819b-86c7a453e8cb",
   "metadata": {},
   "outputs": [
    {
     "data": {
      "text/plain": [
       "array([[7, 9, 6],\n",
       "       [8, 3, 7],\n",
       "       [9, 3, 1],\n",
       "       [9, 0, 4]])"
      ]
     },
     "execution_count": 65,
     "metadata": {},
     "output_type": "execute_result"
    }
   ],
   "source": [
    "#Numpy indexing\n",
    "arr4"
   ]
  },
  {
   "cell_type": "code",
   "execution_count": 70,
   "id": "47f17c74-eb3d-4fd0-9159-a392f5da2509",
   "metadata": {},
   "outputs": [
    {
     "data": {
      "text/plain": [
       "array([9, 0, 4])"
      ]
     },
     "execution_count": 70,
     "metadata": {},
     "output_type": "execute_result"
    }
   ],
   "source": [
    "#find the row elemnts by indexing \n",
    "arr4[3]"
   ]
  },
  {
   "cell_type": "code",
   "execution_count": 71,
   "id": "0e6c7018-f035-43d0-b7ae-0c57bea6822d",
   "metadata": {},
   "outputs": [
    {
     "data": {
      "text/plain": [
       "4"
      ]
     },
     "execution_count": 71,
     "metadata": {},
     "output_type": "execute_result"
    }
   ],
   "source": [
    "#find the both row and column elements by indexing\n",
    "\n",
    "arr4[3,2]"
   ]
  },
  {
   "cell_type": "code",
   "execution_count": 74,
   "id": "6fd88994-f6aa-4be3-bb88-06816ca2f6a4",
   "metadata": {},
   "outputs": [
    {
     "data": {
      "text/plain": [
       "array([6, 7, 1, 4])"
      ]
     },
     "execution_count": 74,
     "metadata": {},
     "output_type": "execute_result"
    }
   ],
   "source": [
    "column2 = arr4[:, 2]\n",
    "column2"
   ]
  },
  {
   "cell_type": "code",
   "execution_count": 75,
   "id": "37f92fec-9f5f-4992-a20b-a5ddb275e546",
   "metadata": {},
   "outputs": [
    {
     "data": {
      "text/plain": [
       "array([9, 3, 3, 0])"
      ]
     },
     "execution_count": 75,
     "metadata": {},
     "output_type": "execute_result"
    }
   ],
   "source": [
    "column2 = arr4[:, 1]\n",
    "column2"
   ]
  },
  {
   "cell_type": "code",
   "execution_count": 78,
   "id": "4d844859-833a-4d2f-84ad-df8306b78528",
   "metadata": {},
   "outputs": [
    {
     "data": {
      "text/plain": [
       "3"
      ]
     },
     "execution_count": 78,
     "metadata": {},
     "output_type": "execute_result"
    }
   ],
   "source": [
    "column2[2]"
   ]
  },
  {
   "cell_type": "code",
   "execution_count": 80,
   "id": "2adfa330-b6fe-4d71-8dd3-511fdbd0c7fd",
   "metadata": {},
   "outputs": [
    {
     "data": {
      "text/plain": [
       "3"
      ]
     },
     "execution_count": 80,
     "metadata": {},
     "output_type": "execute_result"
    }
   ],
   "source": [
    "column2[1]"
   ]
  },
  {
   "cell_type": "code",
   "execution_count": 81,
   "id": "368e91e0-959e-45d9-8273-194753389be3",
   "metadata": {},
   "outputs": [
    {
     "name": "stdout",
     "output_type": "stream",
     "text": [
      "9\n",
      "3\n",
      "3\n",
      "0\n"
     ]
    }
   ],
   "source": [
    "#you can acces the data by for loop\n",
    "for i in column2:\n",
    "    print(i)"
   ]
  },
  {
   "cell_type": "code",
   "execution_count": 98,
   "id": "65f5fcb4-a525-43ac-b0b2-83d8ad741287",
   "metadata": {},
   "outputs": [
    {
     "data": {
      "text/plain": [
       "array([10, 11, 12, 13, 14, 15, 16, 17, 18, 19])"
      ]
     },
     "execution_count": 98,
     "metadata": {},
     "output_type": "execute_result"
    }
   ],
   "source": [
    "#Slicing\n",
    "#first create array\n",
    "a=np.arange(10,20)\n",
    "a"
   ]
  },
  {
   "cell_type": "code",
   "execution_count": 99,
   "id": "d5eb45e0-dd06-4b9f-8533-c06bcc9869eb",
   "metadata": {},
   "outputs": [
    {
     "data": {
      "text/plain": [
       "array([10, 11, 12, 13, 14, 15])"
      ]
     },
     "execution_count": 99,
     "metadata": {},
     "output_type": "execute_result"
    }
   ],
   "source": [
    "#find first 6 elements of array\n",
    "a[:6]"
   ]
  },
  {
   "cell_type": "code",
   "execution_count": 100,
   "id": "f2e26d38-85cd-491e-ba0c-5a26c21e2a64",
   "metadata": {},
   "outputs": [
    {
     "data": {
      "text/plain": [
       "array([15, 16, 17, 18, 19])"
      ]
     },
     "execution_count": 100,
     "metadata": {},
     "output_type": "execute_result"
    }
   ],
   "source": [
    "#finding last 5 element\n",
    "a[5:]"
   ]
  },
  {
   "cell_type": "code",
   "execution_count": 101,
   "id": "ecf7b5b9-3993-4bdf-8655-576000f3128b",
   "metadata": {},
   "outputs": [
    {
     "data": {
      "text/plain": [
       "array([15, 16, 17, 18, 19])"
      ]
     },
     "execution_count": 101,
     "metadata": {},
     "output_type": "execute_result"
    }
   ],
   "source": [
    "#assigning the elements in array\n",
    "arr=a[5:]\n",
    "arr"
   ]
  },
  {
   "cell_type": "code",
   "execution_count": 103,
   "id": "971f3729-4703-43d3-a245-aadaf8ec07f6",
   "metadata": {},
   "outputs": [
    {
     "data": {
      "text/plain": [
       "array([90, 90, 90, 18, 19])"
      ]
     },
     "execution_count": 103,
     "metadata": {},
     "output_type": "execute_result"
    }
   ],
   "source": [
    "#assign by specifying with slice\n",
    "arr[:3]=90\n",
    "arr\n"
   ]
  },
  {
   "cell_type": "code",
   "execution_count": 104,
   "id": "322efd38-8b8e-4b6c-b6a1-611943efd57d",
   "metadata": {},
   "outputs": [
    {
     "data": {
      "text/plain": [
       "array([90, 90, 98, 18, 19])"
      ]
     },
     "execution_count": 104,
     "metadata": {},
     "output_type": "execute_result"
    }
   ],
   "source": [
    "#assign with specifying index\n",
    "arr[2]=98\n",
    "arr"
   ]
  },
  {
   "cell_type": "code",
   "execution_count": 106,
   "id": "bf48f149-1079-408d-a59b-54fef9636e62",
   "metadata": {},
   "outputs": [
    {
     "data": {
      "text/plain": [
       "array([90, 90, 98, 18, 19])"
      ]
     },
     "execution_count": 106,
     "metadata": {},
     "output_type": "execute_result"
    }
   ],
   "source": [
    "#copying the array and store in othere variable name\n",
    "arr1=arr.copy()\n",
    "arr1"
   ]
  },
  {
   "cell_type": "code",
   "execution_count": 109,
   "id": "d92b20fb-d2e3-47ef-8cdb-bb7e4c63d90c",
   "metadata": {},
   "outputs": [
    {
     "data": {
      "text/plain": [
       "<memory at 0x7f96c1f3fb80>"
      ]
     },
     "execution_count": 109,
     "metadata": {},
     "output_type": "execute_result"
    }
   ],
   "source": [
    "#want to see memory address\n",
    "arr.data\n",
    "\n"
   ]
  },
  {
   "cell_type": "code",
   "execution_count": 108,
   "id": "7ea44ac8-3bb5-4726-b67c-e8870f43a96e",
   "metadata": {},
   "outputs": [
    {
     "data": {
      "text/plain": [
       "<memory at 0x7f96c1f3fdc0>"
      ]
     },
     "execution_count": 108,
     "metadata": {},
     "output_type": "execute_result"
    }
   ],
   "source": [
    "arr1.data"
   ]
  },
  {
   "cell_type": "code",
   "execution_count": 111,
   "id": "a927095c-48e8-4137-ac92-ca54ba82ccec",
   "metadata": {},
   "outputs": [
    {
     "data": {
      "text/plain": [
       "array([1000, 1000, 1000, 1000, 1000])"
      ]
     },
     "execution_count": 111,
     "metadata": {},
     "output_type": "execute_result"
    }
   ],
   "source": [
    "#Broadcasting or assigning  1000 in whole array\n",
    "arr[:]=1000\n",
    "arr[:]"
   ]
  },
  {
   "cell_type": "code",
   "execution_count": 115,
   "id": "62604e80-0c91-4666-8c91-f6e9c15fe3d6",
   "metadata": {},
   "outputs": [
    {
     "data": {
      "text/plain": [
       "array([[ 86,  84,  20,  61,  63],\n",
       "       [102,  38,  20,  89,  83],\n",
       "       [ 17,  80,  82,  98,  19],\n",
       "       [ 94,  31,  79,  56,  72],\n",
       "       [ 68,  46,  52,  53,  17]])"
      ]
     },
     "execution_count": 115,
     "metadata": {},
     "output_type": "execute_result"
    }
   ],
   "source": [
    "## Creating the \"2D array and see the operation\n",
    "arr2d=np.random.randint(10,110,(5,5))\n",
    "arr2d\n",
    "                        "
   ]
  },
  {
   "cell_type": "code",
   "execution_count": 118,
   "id": "5d666852-b21f-41ef-8ca3-4c8950ca756d",
   "metadata": {},
   "outputs": [
    {
     "data": {
      "text/plain": [
       "array([ 0,  1,  2,  3,  4,  5,  6,  7,  8,  9, 10])"
      ]
     },
     "execution_count": 118,
     "metadata": {},
     "output_type": "execute_result"
    }
   ],
   "source": [
    "#creating 1D array with arrange () function\n",
    "arr1=np.arange(0,11)\n",
    "arr1"
   ]
  },
  {
   "cell_type": "code",
   "execution_count": 123,
   "id": "b96fd19f-0f94-4a49-adf0-f596f2be0db5",
   "metadata": {},
   "outputs": [
    {
     "data": {
      "text/plain": [
       "array([False, False, False, False, False,  True,  True,  True,  True,\n",
       "        True,  True])"
      ]
     },
     "execution_count": 123,
     "metadata": {},
     "output_type": "execute_result"
    }
   ],
   "source": [
    "#want to find the wlements value greater than 4, by using comparison operator\n",
    "boolean= arr1>4\n",
    "boolean"
   ]
  },
  {
   "cell_type": "code",
   "execution_count": 125,
   "id": "632dedbd-f3ac-4bcb-903f-481a6d650157",
   "metadata": {},
   "outputs": [
    {
     "data": {
      "text/plain": [
       "array([ 5,  6,  7,  8,  9, 10])"
      ]
     },
     "execution_count": 125,
     "metadata": {},
     "output_type": "execute_result"
    }
   ],
   "source": [
    "arr1[boolean]"
   ]
  },
  {
   "cell_type": "code",
   "execution_count": 126,
   "id": "844386ea-5e93-4c8b-bebf-4e48308ec68b",
   "metadata": {},
   "outputs": [
    {
     "data": {
      "text/plain": [
       "array([5, 7, 9])"
      ]
     },
     "execution_count": 126,
     "metadata": {},
     "output_type": "execute_result"
    }
   ],
   "source": [
    "##Arithmatic operation between two one dimensional array\n",
    "a = np.array([1, 2, 3])\n",
    "b = np.array([4, 5, 6])\n",
    "\n",
    "result = a + b\n",
    "result"
   ]
  },
  {
   "cell_type": "code",
   "execution_count": 127,
   "id": "c226d63b-c204-4ff0-8d36-1dc8d256ef61",
   "metadata": {},
   "outputs": [
    {
     "data": {
      "text/plain": [
       "array([ 4, 10, 18])"
      ]
     },
     "execution_count": 127,
     "metadata": {},
     "output_type": "execute_result"
    }
   ],
   "source": [
    "a*b"
   ]
  },
  {
   "cell_type": "code",
   "execution_count": 128,
   "id": "627900fd-bfd0-455d-82ab-e3dcc09e3076",
   "metadata": {},
   "outputs": [
    {
     "data": {
      "text/plain": [
       "array([0.25, 0.4 , 0.5 ])"
      ]
     },
     "execution_count": 128,
     "metadata": {},
     "output_type": "execute_result"
    }
   ],
   "source": [
    "a/b"
   ]
  },
  {
   "cell_type": "code",
   "execution_count": 129,
   "id": "d92569e6-4e66-47c9-aabe-8e1281a77127",
   "metadata": {},
   "outputs": [
    {
     "data": {
      "text/plain": [
       "9"
      ]
     },
     "execution_count": 129,
     "metadata": {},
     "output_type": "execute_result"
    }
   ],
   "source": [
    "result.max()\n"
   ]
  },
  {
   "cell_type": "code",
   "execution_count": 130,
   "id": "c519b0fa-d59e-48b4-b7e9-b5f82599319b",
   "metadata": {},
   "outputs": [
    {
     "data": {
      "text/plain": [
       "5"
      ]
     },
     "execution_count": 130,
     "metadata": {},
     "output_type": "execute_result"
    }
   ],
   "source": [
    "result.min()"
   ]
  },
  {
   "cell_type": "code",
   "execution_count": 131,
   "id": "ef231570-efdc-4ebb-a884-e3dabbef709c",
   "metadata": {},
   "outputs": [
    {
     "data": {
      "text/plain": [
       "array([ 148.4131591 , 1096.63315843, 8103.08392758])"
      ]
     },
     "execution_count": 131,
     "metadata": {},
     "output_type": "execute_result"
    }
   ],
   "source": [
    "#exponential\n",
    "np.exp(result)"
   ]
  },
  {
   "cell_type": "code",
   "execution_count": 132,
   "id": "bd4e7cd1-0805-47d2-8f81-33ed40a43f2a",
   "metadata": {},
   "outputs": [
    {
     "data": {
      "text/plain": [
       "array([-0.95892427,  0.6569866 ,  0.41211849])"
      ]
     },
     "execution_count": 132,
     "metadata": {},
     "output_type": "execute_result"
    }
   ],
   "source": [
    "np.sin(result)"
   ]
  },
  {
   "cell_type": "code",
   "execution_count": 133,
   "id": "cc492e74-8dbb-415f-83af-75e586b865e8",
   "metadata": {},
   "outputs": [
    {
     "data": {
      "text/plain": [
       "array([ 0.28366219,  0.75390225, -0.91113026])"
      ]
     },
     "execution_count": 133,
     "metadata": {},
     "output_type": "execute_result"
    }
   ],
   "source": [
    "np.cos(result)"
   ]
  },
  {
   "cell_type": "code",
   "execution_count": 134,
   "id": "dcc83b39-f59a-4a53-96e9-dce5fb320e92",
   "metadata": {},
   "outputs": [
    {
     "data": {
      "text/plain": [
       "array([-3.38051501,  0.87144798, -0.45231566])"
      ]
     },
     "execution_count": 134,
     "metadata": {},
     "output_type": "execute_result"
    }
   ],
   "source": [
    "np.tan(result)"
   ]
  },
  {
   "cell_type": "code",
   "execution_count": 135,
   "id": "0469dbb3-8385-4abe-890c-7498e53d8022",
   "metadata": {},
   "outputs": [
    {
     "data": {
      "text/plain": [
       "array([2.23606798, 2.64575131, 3.        ])"
      ]
     },
     "execution_count": 135,
     "metadata": {},
     "output_type": "execute_result"
    }
   ],
   "source": [
    "np.sqrt(result)"
   ]
  },
  {
   "cell_type": "code",
   "execution_count": null,
   "id": "d2176868-e19b-446a-9057-8242aff6c901",
   "metadata": {},
   "outputs": [],
   "source": []
  }
 ],
 "metadata": {
  "kernelspec": {
   "display_name": "Python 3 (ipykernel)",
   "language": "python",
   "name": "python3"
  },
  "language_info": {
   "codemirror_mode": {
    "name": "ipython",
    "version": 3
   },
   "file_extension": ".py",
   "mimetype": "text/x-python",
   "name": "python",
   "nbconvert_exporter": "python",
   "pygments_lexer": "ipython3",
   "version": "3.10.9"
  }
 },
 "nbformat": 4,
 "nbformat_minor": 5
}
