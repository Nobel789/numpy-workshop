{
 "cells": [
  {
   "cell_type": "code",
   "execution_count": null,
   "id": "27f97493-f6ec-4fcb-9e9b-c2d398f4a008",
   "metadata": {},
   "outputs": [],
   "source": [
    "#Numpy workshop"
   ]
  },
  {
   "cell_type": "code",
   "execution_count": 14,
   "id": "38c143fb-204a-4259-94c4-6b7599653e7f",
   "metadata": {},
   "outputs": [
    {
     "name": "stdout",
     "output_type": "stream",
     "text": [
      "Requirement already satisfied: numpy in ./anaconda3/lib/python3.10/site-packages (1.23.5)\n"
     ]
    }
   ],
   "source": [
    "!pip install numpy\n",
    "import numpy as np"
   ]
  },
  {
   "cell_type": "code",
   "execution_count": 10,
   "id": "4a8075a9-453c-433b-b10b-57398c3d4b98",
   "metadata": {},
   "outputs": [
    {
     "data": {
      "text/plain": [
       "array([[[ 0,  1],\n",
       "        [ 2,  3]],\n",
       "\n",
       "       [[ 4,  5],\n",
       "        [ 6,  7]],\n",
       "\n",
       "       [[ 8,  9],\n",
       "        [10, 11]]])"
      ]
     },
     "execution_count": 10,
     "metadata": {},
     "output_type": "execute_result"
    }
   ],
   "source": [
    "a = np.arange(12)\n",
    "a = a.reshape(3,2,2)\n",
    "a"
   ]
  },
  {
   "cell_type": "code",
   "execution_count": 11,
   "id": "6f8aba84-3573-4c54-8a5f-e4bfc1c9e0b5",
   "metadata": {},
   "outputs": [
    {
     "data": {
      "text/plain": [
       "array([[ 0,  2],\n",
       "       [ 4,  6],\n",
       "       [ 8, 10]])"
      ]
     },
     "execution_count": 11,
     "metadata": {},
     "output_type": "execute_result"
    }
   ],
   "source": [
    "#(...)only print \"o2 column # same as a[:,:,0]\n",
    "a[...,0]"
   ]
  },
  {
   "cell_type": "code",
   "execution_count": 12,
   "id": "ff5b0185-e134-48b6-a148-6809f8ef323b",
   "metadata": {},
   "outputs": [
    {
     "data": {
      "text/plain": [
       "array([[[ 4,  5],\n",
       "        [ 6,  7]],\n",
       "\n",
       "       [[ 8,  9],\n",
       "        [10, 11]]])"
      ]
     },
     "execution_count": 12,
     "metadata": {},
     "output_type": "execute_result"
    }
   ],
   "source": [
    "#after row 1 or just a[1:]\n",
    "a[1:,...]"
   ]
  },
  {
   "cell_type": "code",
   "execution_count": 32,
   "id": "703c74c6-f522-4f24-ac5a-74b85216fb34",
   "metadata": {},
   "outputs": [
    {
     "data": {
      "text/plain": [
       "array([[ 0,  1,  2,  3,  4,  5,  6],\n",
       "       [ 7,  8,  9, 10, 11, 12, 13],\n",
       "       [14, 15, 16, 17, 18, 19, 20],\n",
       "       [21, 22, 23, 24, 25, 26, 27],\n",
       "       [28, 29, 30, 31, 32, 33, 34]])"
      ]
     },
     "execution_count": 32,
     "metadata": {},
     "output_type": "execute_result"
    }
   ],
   "source": [
    "b=np.arange(35).reshape(5,7)\n",
    "b"
   ]
  },
  {
   "cell_type": "code",
   "execution_count": 19,
   "id": "a49946e1-5fe5-4c24-887c-da73802dd958",
   "metadata": {},
   "outputs": [
    {
     "data": {
      "text/plain": [
       "0"
      ]
     },
     "execution_count": 19,
     "metadata": {},
     "output_type": "execute_result"
    }
   ],
   "source": [
    "b[0,0]"
   ]
  },
  {
   "cell_type": "code",
   "execution_count": 20,
   "id": "043c6bfc-cf1d-4f38-8573-5bebe48f9ba7",
   "metadata": {},
   "outputs": [
    {
     "data": {
      "text/plain": [
       "array([28, 29, 30, 31, 32, 33, 34])"
      ]
     },
     "execution_count": 20,
     "metadata": {},
     "output_type": "execute_result"
    }
   ],
   "source": [
    "b[-1]"
   ]
  },
  {
   "cell_type": "code",
   "execution_count": 21,
   "id": "1c7c6d1f-9654-4ac1-b94c-673b98615230",
   "metadata": {},
   "outputs": [
    {
     "data": {
      "text/plain": [
       "array([[ 9, 10, 11],\n",
       "       [16, 17, 18]])"
      ]
     },
     "execution_count": 21,
     "metadata": {},
     "output_type": "execute_result"
    }
   ],
   "source": [
    "b[1:3,2:5]"
   ]
  },
  {
   "cell_type": "code",
   "execution_count": 25,
   "id": "345c91c6-3ed8-449c-b1d7-feb7a6ca745d",
   "metadata": {},
   "outputs": [
    {
     "data": {
      "text/plain": [
       "array([ 0,  1,  2,  3,  4,  5,  6,  7,  8,  9, 10, 11])"
      ]
     },
     "execution_count": 25,
     "metadata": {},
     "output_type": "execute_result"
    }
   ],
   "source": [
    "# boolean indexing\n",
    "a[a<13]\n"
   ]
  },
  {
   "cell_type": "code",
   "execution_count": 33,
   "id": "a0b6ade7-f816-4042-9cf3-636c6c58c718",
   "metadata": {},
   "outputs": [
    {
     "ename": "NameError",
     "evalue": "name 'array' is not defined",
     "output_type": "error",
     "traceback": [
      "\u001b[0;31m---------------------------------------------------------------------------\u001b[0m",
      "\u001b[0;31mNameError\u001b[0m                                 Traceback (most recent call last)",
      "Cell \u001b[0;32mIn[33], line 2\u001b[0m\n\u001b[1;32m      1\u001b[0m \u001b[38;5;66;03m# boolean row selector\u001b[39;00m\n\u001b[0;32m----> 2\u001b[0m b1 \u001b[38;5;241m=\u001b[39m \u001b[43marray\u001b[49m([\u001b[38;5;28;01mTrue\u001b[39;00m,\u001b[38;5;28;01mFalse\u001b[39;00m,\u001b[38;5;28;01mTrue\u001b[39;00m,\u001b[38;5;28;01mFalse\u001b[39;00m]) \n\u001b[1;32m      3\u001b[0m b[b1,:]\n",
      "\u001b[0;31mNameError\u001b[0m: name 'array' is not defined"
     ]
    }
   ],
   "source": [
    "# boolean row selector\n",
    "b1 = array([True,False,True,False]) \n",
    "b[b1,:]\n"
   ]
  },
  {
   "cell_type": "code",
   "execution_count": 34,
   "id": "e76730a6-8cfc-4a4e-8693-3a1a92e373d8",
   "metadata": {},
   "outputs": [
    {
     "ename": "NameError",
     "evalue": "name 'array' is not defined",
     "output_type": "error",
     "traceback": [
      "\u001b[0;31m---------------------------------------------------------------------------\u001b[0m",
      "\u001b[0;31mNameError\u001b[0m                                 Traceback (most recent call last)",
      "Cell \u001b[0;32mIn[34], line 1\u001b[0m\n\u001b[0;32m----> 1\u001b[0m b2 \u001b[38;5;241m=\u001b[39m \u001b[43marray\u001b[49m( [\u001b[38;5;28;01mFalse\u001b[39;00m,\u001b[38;5;28;01mTrue\u001b[39;00m,\u001b[38;5;28;01mTrue\u001b[39;00m,\u001b[38;5;28;01mFalse\u001b[39;00m,\u001b[38;5;28;01mTrue\u001b[39;00m] ) \n\u001b[1;32m      2\u001b[0m b[:,b2]\n",
      "\u001b[0;31mNameError\u001b[0m: name 'array' is not defined"
     ]
    }
   ],
   "source": [
    "b2 = array( [False,True,True,False,True] ) \n",
    "b[:,b2]"
   ]
  },
  {
   "cell_type": "code",
   "execution_count": 35,
   "id": "39e5caa1-8356-4be9-aba0-b3aea191e720",
   "metadata": {},
   "outputs": [
    {
     "data": {
      "text/plain": [
       "1"
      ]
     },
     "execution_count": 35,
     "metadata": {},
     "output_type": "execute_result"
    }
   ],
   "source": [
    "#The abs() function in NumPy is used to calculate the absolute value of a number or an array of numbers.\n",
    "np.abs(-1)"
   ]
  },
  {
   "cell_type": "code",
   "execution_count": 39,
   "id": "0b4f39b7-bc52-450b-9e73-143cd8b01823",
   "metadata": {},
   "outputs": [
    {
     "ename": "NameError",
     "evalue": "name 'array' is not defined",
     "output_type": "error",
     "traceback": [
      "\u001b[0;31m---------------------------------------------------------------------------\u001b[0m",
      "\u001b[0;31mNameError\u001b[0m                                 Traceback (most recent call last)",
      "Cell \u001b[0;32mIn[39], line 1\u001b[0m\n\u001b[0;32m----> 1\u001b[0m np\u001b[38;5;241m.\u001b[39mabs(\u001b[43marray\u001b[49m[\u001b[38;5;241m-\u001b[39m\u001b[38;5;241m1.2\u001b[39m, \u001b[38;5;241m1.2\u001b[39m])\n",
      "\u001b[0;31mNameError\u001b[0m: name 'array' is not defined"
     ]
    }
   ],
   "source": [
    " np.abs(array[-1.2, 1.2])"
   ]
  },
  {
   "cell_type": "code",
   "execution_count": 38,
   "id": "4a5a3ca9-1e3a-44a7-8968-3244c6431806",
   "metadata": {},
   "outputs": [
    {
     "data": {
      "text/plain": [
       "1.5620499351813308"
      ]
     },
     "execution_count": 38,
     "metadata": {},
     "output_type": "execute_result"
    }
   ],
   "source": [
    "np.abs(1.2+1j)"
   ]
  },
  {
   "cell_type": "code",
   "execution_count": 46,
   "id": "69e51b67-9372-4e9d-88d5-f8a4b5d71efe",
   "metadata": {},
   "outputs": [
    {
     "data": {
      "text/plain": [
       "array([1, 2, 3, 4, 5])"
      ]
     },
     "execution_count": 46,
     "metadata": {},
     "output_type": "execute_result"
    }
   ],
   "source": [
    "arr = np.array([1, 2, 3, 4, 5])\n",
    "arr\n"
   ]
  },
  {
   "cell_type": "code",
   "execution_count": 52,
   "id": "12011ef1-ba12-48c7-a851-9db959dc230c",
   "metadata": {},
   "outputs": [
    {
     "data": {
      "text/plain": [
       "array([ 1,  3,  6, 10, 15])"
      ]
     },
     "execution_count": 52,
     "metadata": {},
     "output_type": "execute_result"
    }
   ],
   "source": [
    "#cumalative sum\n",
    "cumulative_sum = np.cumsum(arr)\n",
    "cumulative_sum"
   ]
  },
  {
   "cell_type": "code",
   "execution_count": 53,
   "id": "49fa7595-2a51-4d3b-9029-19d2f705f4d2",
   "metadata": {},
   "outputs": [
    {
     "data": {
      "text/plain": [
       "array([  1,   2,   6,  24, 120])"
      ]
     },
     "execution_count": 53,
     "metadata": {},
     "output_type": "execute_result"
    }
   ],
   "source": [
    "#cumalative multiplication\n",
    "cumulative_product = np.cumprod(arr)\n",
    "cumulative_product\n"
   ]
  },
  {
   "cell_type": "code",
   "execution_count": 55,
   "id": "5129194d-4722-4538-8d97-4a6ae20c5710",
   "metadata": {},
   "outputs": [
    {
     "data": {
      "text/plain": [
       "array([5, 7, 9])"
      ]
     },
     "execution_count": 55,
     "metadata": {},
     "output_type": "execute_result"
    }
   ],
   "source": [
    "#add() function\n",
    "arr1 = np.array([1, 2, 3])\n",
    "arr2 = np.array([4, 5, 6])\n",
    "\n",
    "# Add the two arrays using add()\n",
    "result = np.add(arr1, arr2)\n",
    "result"
   ]
  },
  {
   "cell_type": "code",
   "execution_count": 56,
   "id": "db67a33f-1bdf-43ad-b826-f311c043c16a",
   "metadata": {},
   "outputs": [
    {
     "data": {
      "text/plain": [
       "False"
      ]
     },
     "execution_count": 56,
     "metadata": {},
     "output_type": "execute_result"
    }
   ],
   "source": [
    "#all(),The all() function in NumPy is used to check whether all elements in a given array evaluate to True\n",
    "arr = np.array([True, True, False])\n",
    "result = np.all(arr)\n",
    "result"
   ]
  },
  {
   "cell_type": "code",
   "execution_count": 57,
   "id": "230991de-1280-4ccd-8aaa-794aa90a106b",
   "metadata": {},
   "outputs": [
    {
     "name": "stdout",
     "output_type": "stream",
     "text": [
      "The arrays are equal within the tolerance of 0.5\n"
     ]
    }
   ],
   "source": [
    "#allclose() is a function in the NumPy library of Python that is used to compare two arrays or sequences and check if they are equalor not equal within a given tolerance. \n",
    "#The function returns True if the arrays are equal within the given tolerance, and False otherwise.\n",
    "\n",
    "# Create two arrays to compare\n",
    "a = np.array([1.0, 2.0, 3.0])\n",
    "b = np.array([1.1, 2.2, 3.3])\n",
    "\n",
    "# Compare the arrays with a tolerance of 0.5\n",
    "tolerance = 0.5\n",
    "equal = np.allclose(a, b, rtol=tolerance)\n",
    "\n",
    "# Print the result\n",
    "if equal:\n",
    "    print(\"The arrays are equal within the tolerance of\", tolerance)\n",
    "else:\n",
    "    print(\"The arrays are not equal within the tolerance of\", tolerance)"
   ]
  },
  {
   "cell_type": "code",
   "execution_count": 58,
   "id": "e19eb30b-56ee-4e4c-b62c-1eb2a5b7c754",
   "metadata": {},
   "outputs": [
    {
     "name": "stdout",
     "output_type": "stream",
     "text": [
      "There is at least one zero element.\n"
     ]
    }
   ],
   "source": [
    "#numpy.alltrue() is a function in the NumPy library of Python that returns True if all elements of an array evaluate to True, and False otherwise. \n",
    "# Create an array with some elements equal to 0\n",
    "a = np.array([1, 2, 3, 0, 5])\n",
    "\n",
    "# Check if all elements are nonzero using numpy.alltrue()\n",
    "all_nonzero = np.alltrue(a)\n",
    "\n",
    "# Print the result\n",
    "if all_nonzero:\n",
    "    print(\"All elements are nonzero.\")\n",
    "else:\n",
    "    print(\"There is at least one zero element.\")"
   ]
  },
  {
   "cell_type": "code",
   "execution_count": 60,
   "id": "1a2ade1e-4eec-48e8-b7f4-07916703d8b5",
   "metadata": {},
   "outputs": [
    {
     "name": "stdout",
     "output_type": "stream",
     "text": [
      "There is at least one false.\n"
     ]
    }
   ],
   "source": [
    "#all true function also work with boolean\n",
    "# Create an array with some elements equal to false\n",
    "a = np.array([True, True, False, True, False])\n",
    "\n",
    "# Check if all elements are nonzero using numpy.alltrue()\n",
    "all_true = np.alltrue(a)\n",
    "\n",
    "# Print the result\n",
    "if all_true:\n",
    "    print(\"All elements are true.\")\n",
    "else:\n",
    "    print(\"There is at least one false.\")\n",
    "\n"
   ]
  },
  {
   "cell_type": "code",
   "execution_count": 61,
   "id": "29cab835-5b1d-4818-90d2-4c1782bc4989",
   "metadata": {},
   "outputs": [
    {
     "data": {
      "text/plain": [
       "0.9272952180016122"
      ]
     },
     "execution_count": 61,
     "metadata": {},
     "output_type": "execute_result"
    }
   ],
   "source": [
    "#numpy.angle() is a function in the NumPy library of Python that is used to compute the angle (in radians) of complex numbers. \n",
    "z = 3 + 4j\n",
    "\n",
    "# Compute the angle of the complex number in radians using numpy.angle()\n",
    "angle_rad = np.angle(z)\n",
    "angle_rad"
   ]
  },
  {
   "cell_type": "code",
   "execution_count": 62,
   "id": "dfb96c5d-4020-495d-8389-2e6d7a896e23",
   "metadata": {},
   "outputs": [
    {
     "data": {
      "text/plain": [
       "1.373400766945016"
      ]
     },
     "execution_count": 62,
     "metadata": {},
     "output_type": "execute_result"
    }
   ],
   "source": [
    "z = 10+ 50j\n",
    "\n",
    "# Compute the angle of the complex number in radians using numpy.angle()\n",
    "angle_rad = np.angle(z)\n",
    "angle_rad"
   ]
  },
  {
   "cell_type": "code",
   "execution_count": 63,
   "id": "727acafc-6a8b-4210-ba40-1e404f8a6276",
   "metadata": {},
   "outputs": [
    {
     "name": "stdout",
     "output_type": "stream",
     "text": [
      "There is at least one negative element.\n"
     ]
    }
   ],
   "source": [
    "#numpy.any() is a function in the NumPy library of Python that returns True if any element of an array evaluates to True, and False\n",
    "# Create an array with some negative elements\n",
    "a = np.array([1, 2, -3, 4, 5])\n",
    "\n",
    "# Check if any element is negative using numpy.any()\n",
    "any_negative = np.any(a < 0)\n",
    "\n",
    "# Print the result\n",
    "if any_negative:\n",
    "    print(\"There is at least one negative element.\")\n",
    "else:\n",
    "    print(\"All elements are non-negative.\")"
   ]
  },
  {
   "cell_type": "code",
   "execution_count": 66,
   "id": "f755c057-efcb-47af-9810-564666a31fb6",
   "metadata": {},
   "outputs": [
    {
     "name": "stdout",
     "output_type": "stream",
     "text": [
      "There is at least one True element.\n"
     ]
    }
   ],
   "source": [
    "#Create a boolean array with some elements equal to True\n",
    "a = np.array([False, False, True, False, True])\n",
    "\n",
    "# Check if any element is True using numpy.any()\n",
    "any_true = np.any(a)\n",
    "\n",
    "# Print the result\n",
    "if any_true:\n",
    "    print(\"There is at least one True element.\")\n",
    "else:\n",
    "    print(\"All elements are False.\")"
   ]
  },
  {
   "cell_type": "code",
   "execution_count": 67,
   "id": "657864d7-b5f8-4470-99f2-65072bd102a4",
   "metadata": {},
   "outputs": [
    {
     "data": {
      "text/plain": [
       "[1, 2, 3]"
      ]
     },
     "execution_count": 67,
     "metadata": {},
     "output_type": "execute_result"
    }
   ],
   "source": [
    "#append() is a method in Python's built-in list data type that is used to add an element to the end of a list.\n",
    "my_list = []\n",
    "\n",
    "# Add elements to the list using append()\n",
    "my_list.append(1)\n",
    "my_list.append(2)\n",
    "my_list.append(3)\n",
    "my_list"
   ]
  },
  {
   "cell_type": "code",
   "execution_count": 68,
   "id": "d06517fa-19ca-485f-af77-99f532fc19f3",
   "metadata": {},
   "outputs": [
    {
     "name": "stdout",
     "output_type": "stream",
     "text": [
      "[1, 2, 3, [4, 5, 6]]\n"
     ]
    }
   ],
   "source": [
    "#Note that append() can also be used to add a list or another iterable as a single element to the end of a list\n",
    "list1 = [1, 2, 3]\n",
    "list2 = [4, 5, 6]\n",
    "\n",
    "# Append list2 to list1 using append()\n",
    "list1.append(list2)\n",
    "\n",
    "# Print the result\n",
    "print(list1)"
   ]
  },
  {
   "cell_type": "code",
   "execution_count": 72,
   "id": "e86030dd-ee9e-4880-b59d-5fb13fea0c75",
   "metadata": {},
   "outputs": [
    {
     "name": "stdout",
     "output_type": "stream",
     "text": [
      "[1, 2, 3, 4, 5, 6]\n"
     ]
    }
   ],
   "source": [
    "#you can use the extend() method instead of append()\n",
    "list1 = [1, 2, 3]\n",
    "list2 = [4, 5, 6]\n",
    "\n",
    "# Append list2 to list1 using append()\n",
    "list1.extend(list2)\n",
    "\n",
    "# Print the result\n",
    "print(list1)\n"
   ]
  },
  {
   "cell_type": "code",
   "execution_count": 73,
   "id": "9048fcc7-21f4-4616-abf3-c2f1139b0329",
   "metadata": {},
   "outputs": [
    {
     "name": "stdout",
     "output_type": "stream",
     "text": [
      "[ 5 25]\n"
     ]
    }
   ],
   "source": [
    "#numpy.apply_along_axis() is a function in the NumPy library of Python that applies a function along a specified axis of an array. \n",
    "# Define a function to calculate the sum of squares of a 1D array\n",
    "def sum_of_squares(x):\n",
    "    return np.sum(x**2)\n",
    "\n",
    "# Create a 2D array\n",
    "a = np.array([[1, 2], [3, 4]])\n",
    "\n",
    "# Apply the function along axis 1 using numpy.apply_along_axis()\n",
    "result = np.apply_along_axis(sum_of_squares, 1, a)\n",
    "\n",
    "# Print the result\n",
    "print(result)"
   ]
  },
  {
   "cell_type": "code",
   "execution_count": 74,
   "id": "5a5459e2-f1b2-485c-947e-309d31dc3a54",
   "metadata": {},
   "outputs": [
    {
     "name": "stdout",
     "output_type": "stream",
     "text": [
      "[3 8]\n"
     ]
    }
   ],
   "source": [
    "# Define a function to calculate the product of elements of a 1D array\n",
    "def product(x):\n",
    "    return np.prod(x)\n",
    "\n",
    "# Create a 2D array\n",
    "a = np.array([[1, 2], [3, 4]])\n",
    "\n",
    "# Apply the function along axis 0 using numpy.apply_along_axis()\n",
    "result = np.apply_along_axis(product, 0, a)\n",
    "\n",
    "# Print the result\n",
    "print(result)"
   ]
  },
  {
   "cell_type": "code",
   "execution_count": 85,
   "id": "112924ff-a041-4541-8b2c-45c9438b11ca",
   "metadata": {},
   "outputs": [
    {
     "name": "stdout",
     "output_type": "stream",
     "text": [
      "[[[4 6]]]\n"
     ]
    }
   ],
   "source": [
    "# Define a function to calculate the sum of elements of a 2D array\n",
    "def sum_2d(x,y):\n",
    "    return np.sum(x,y)\n",
    "\n",
    "# Create a 2D array\n",
    "a = np.array([[[1, 2], [3, 4]]])\n",
    "\n",
    "# Apply the function over axis 0 using numpy.apply_over_axes()\n",
    "result = np.apply_over_axes(sum_2d, a, axes=(0,1))\n",
    "\n",
    "# Print the result\n",
    "print(result)\n",
    "\n",
    "\n",
    "\n",
    "\n",
    "\n"
   ]
  },
  {
   "cell_type": "code",
   "execution_count": 87,
   "id": "ae30c685-3d67-458f-8542-6c7d59eabae6",
   "metadata": {},
   "outputs": [
    {
     "name": "stdout",
     "output_type": "stream",
     "text": [
      "[0 1 2 3 4 5 6 7 8 9]\n",
      "[ 1  2  3  4  5  6  7  8  9 10]\n",
      "[1 3 5 7 9]\n"
     ]
    }
   ],
   "source": [
    "#numpy.arange() is a function in NumPy library that returns evenly spaced values within a given interval. \n",
    "#It has a similar functionality as the Python built-in range() function, but it returns a NumPy array instead of a list.\n",
    "# Create an array of values from 0 to 9 with a step of 1\n",
    "a = np.arange(10)\n",
    "print(a)  \n",
    "\n",
    "# Create an array of values from 1 to 10 with a step of 1\n",
    "b = np.arange(1, 11)\n",
    "print(b) \n",
    "# Create an array of values from 1 to 10 with a step of 2\n",
    "c = np.arange(1, 11, 2)\n",
    "print(c) \n",
    "\n"
   ]
  },
  {
   "cell_type": "code",
   "execution_count": 88,
   "id": "b5edc40f-9306-4817-ac4e-b522d26056b4",
   "metadata": {},
   "outputs": [
    {
     "data": {
      "text/plain": [
       "array([0. , 0.1, 0.2, 0.3, 0.4, 0.5, 0.6, 0.7, 0.8, 0.9])"
      ]
     },
     "execution_count": 88,
     "metadata": {},
     "output_type": "execute_result"
    }
   ],
   "source": [
    "# Create an array of floating-point values from 0 to 1 with a step of 0.1\n",
    "d = np.arange(0, 1, 0.1)\n",
    "d"
   ]
  },
  {
   "cell_type": "code",
   "execution_count": 89,
   "id": "9b194f25-91e1-4262-9f6f-62af91bb22ca",
   "metadata": {},
   "outputs": [
    {
     "name": "stdout",
     "output_type": "stream",
     "text": [
      "1.0471975511965976\n"
     ]
    }
   ],
   "source": [
    "#numpy.arccos() is a function in NumPy library that returns the inverse cosine (also known as arccosine) of a given angle in radians. \n",
    "a = np.arccos(0.5)\n",
    "print(a)"
   ]
  },
  {
   "cell_type": "code",
   "execution_count": 91,
   "id": "f7286102-cf1e-4543-9ca7-cf4607fca282",
   "metadata": {},
   "outputs": [
    {
     "name": "stdout",
     "output_type": "stream",
     "text": [
      "1.762747174039086\n"
     ]
    }
   ],
   "source": [
    "#numpy.arccosh() is a function in NumPy that calculates the inverse hyperbolic cosine of a given numbe\n",
    "a = np.arccosh(3)\n",
    "print(a)"
   ]
  },
  {
   "cell_type": "code",
   "execution_count": 92,
   "id": "93daddf9-b8a3-4683-aa57-dfb448aabec8",
   "metadata": {},
   "outputs": [
    {
     "name": "stdout",
     "output_type": "stream",
     "text": [
      "0.5235987755982988\n"
     ]
    }
   ],
   "source": [
    "#numpy.arcsin() is a function in NumPy that calculates the inverse sine of a given number. \n",
    "a = np.arcsin(0.5)\n",
    "print(a)"
   ]
  },
  {
   "cell_type": "code",
   "execution_count": 93,
   "id": "2d490d6d-c362-4e72-ba8a-d6cda0093f7f",
   "metadata": {},
   "outputs": [
    {
     "name": "stdout",
     "output_type": "stream",
     "text": [
      "1.4436354751788103\n"
     ]
    }
   ],
   "source": [
    "#numpy.arcsinh() is a function in NumPy that calculates the inverse hyperbolic sine of a given number.\n",
    "a = np.arcsinh(2)\n",
    "print(a)"
   ]
  },
  {
   "cell_type": "code",
   "execution_count": 94,
   "id": "9da06452-396c-4543-b855-ccb8737d807d",
   "metadata": {},
   "outputs": [
    {
     "name": "stdout",
     "output_type": "stream",
     "text": [
      "0.7853981633974483\n"
     ]
    }
   ],
   "source": [
    "#numpy.arctan() is a function in NumPy that calculates the arctangent of a given number. arc=inverse\n",
    "a = np.arctan(1)\n",
    "print(a)"
   ]
  },
  {
   "cell_type": "code",
   "execution_count": 95,
   "id": "b2321fe9-e43d-43b3-aa1a-71e15ccd1fd1",
   "metadata": {},
   "outputs": [
    {
     "name": "stdout",
     "output_type": "stream",
     "text": [
      "0.5493061443340549\n"
     ]
    }
   ],
   "source": [
    "#The arctanh function takes a value between -1 and 1 as input and returns the corresponding angle whose hyperbolic tangent is equal to the input value.\n",
    "x = 0.5\n",
    "y = np.arctanh(x)\n",
    "print(y)"
   ]
  },
  {
   "cell_type": "code",
   "execution_count": 96,
   "id": "49c107e5-a7c9-470f-b55c-1aacf30ffdcb",
   "metadata": {},
   "outputs": [
    {
     "name": "stdout",
     "output_type": "stream",
     "text": [
      "0.7853981633974483\n"
     ]
    }
   ],
   "source": [
    "#Unlike the arctan function, arctan2 can correctly determine the quadrant of the angle,\n",
    "#The output of arctan2 is always between -π and π, even when x is negative.\n",
    "#rctan2(y, x) is a function that computes the arctangent of y/x. It takes two arguments y and x which are usually the coordinates of a point in a Cartesian plane.\n",
    "x = 1\n",
    "y = 1\n",
    "theta = np.arctan2(y, x)\n",
    "print(theta)"
   ]
  },
  {
   "cell_type": "code",
   "execution_count": 97,
   "id": "beb1c4dd-113a-4f66-8dcc-8783255e8c78",
   "metadata": {},
   "outputs": [
    {
     "name": "stdout",
     "output_type": "stream",
     "text": [
      "1\n"
     ]
    }
   ],
   "source": [
    "#argmax() is a function in NumPy that returns the indices of the maximum values along a given axis of a NumPy array.\n",
    "a = np.array([1, 5, 2, 4, 3])\n",
    "max_index = np.argmax(a)\n",
    "print(max_index)"
   ]
  },
  {
   "cell_type": "code",
   "execution_count": 98,
   "id": "942c545e-3a16-431d-aacd-78a378636f62",
   "metadata": {},
   "outputs": [
    {
     "name": "stdout",
     "output_type": "stream",
     "text": [
      "0\n"
     ]
    }
   ],
   "source": [
    "#argmin\n",
    "min_index = np.argmin(a)\n",
    "print(min_index)"
   ]
  },
  {
   "cell_type": "code",
   "execution_count": 99,
   "id": "0e22eacf-822d-4bc9-8b8f-e8600f3875e3",
   "metadata": {},
   "outputs": [
    {
     "data": {
      "text/plain": [
       "array([5, 2, 8, 1, 6])"
      ]
     },
     "execution_count": 99,
     "metadata": {},
     "output_type": "execute_result"
    }
   ],
   "source": [
    "#The argsort() function in NumPy returns the indices that would sort an array in ascending order.\n",
    "a = np.array([5, 2, 8, 1, 6])\n",
    "a"
   ]
  },
  {
   "cell_type": "code",
   "execution_count": 107,
   "id": "8128ab79-a934-4988-8434-c4e1318dd6b3",
   "metadata": {},
   "outputs": [
    {
     "name": "stdout",
     "output_type": "stream",
     "text": [
      "[3 1 0 4 2]\n"
     ]
    }
   ],
   "source": [
    "sorted_indices = np.argsort(a)\n",
    "print(sorted_indices)"
   ]
  },
  {
   "cell_type": "code",
   "execution_count": 109,
   "id": "54256a80-44e6-4ac4-bd24-f6f82254140f",
   "metadata": {},
   "outputs": [
    {
     "data": {
      "text/plain": [
       "array([1, 2, 3])"
      ]
     },
     "execution_count": 109,
     "metadata": {},
     "output_type": "execute_result"
    }
   ],
   "source": [
    "#array()function,The array() function in NumPy creates an array from a list or tuple, by default with a data type inferred from the input data\n",
    "\n",
    "a = np.array([1, 2, 3])\n",
    "a"
   ]
  },
  {
   "cell_type": "code",
   "execution_count": 110,
   "id": "db282190-f057-4041-ac18-e9906d49ed47",
   "metadata": {},
   "outputs": [
    {
     "data": {
      "text/plain": [
       "array([1.+0.j, 2.+0.j, 3.+0.j])"
      ]
     },
     "execution_count": 110,
     "metadata": {},
     "output_type": "execute_result"
    }
   ],
   "source": [
    "## output type is specifie\n",
    "b=np.array([1,2,3], dtype=complex)\n",
    "b"
   ]
  },
  {
   "cell_type": "code",
   "execution_count": 112,
   "id": "e80b0f10-6a60-4d36-ace5-cc47875752c5",
   "metadata": {},
   "outputs": [
    {
     "data": {
      "text/plain": [
       "array([1])"
      ]
     },
     "execution_count": 112,
     "metadata": {},
     "output_type": "execute_result"
    }
   ],
   "source": [
    "#array(1, copy=0, subok=1, ndmin=1) creates a one-dimensional array with a single element equal to 1. \n",
    "#The copy parameter is set to 0, which means that no copy of the input data is made.\n",
    "#The subok parameter is set to 1, which means that subclasses of ndarray are allowed. T\n",
    "#he ndmin parameter is set to 1, which means that the output array will have at least one dimension.\n",
    "c=np.array(1, copy=0, subok=1, ndmin=1)\n",
    "c\n"
   ]
  },
  {
   "cell_type": "code",
   "execution_count": 114,
   "id": "795d2921-9e97-433f-9410-d6b38c3edf39",
   "metadata": {},
   "outputs": [
    {
     "data": {
      "text/plain": [
       "array([[1]])"
      ]
     },
     "execution_count": 114,
     "metadata": {},
     "output_type": "execute_result"
    }
   ],
   "source": [
    "c=np.array(1, copy=0, subok=1, ndmin=2)\n",
    "c"
   ]
  },
  {
   "cell_type": "code",
   "execution_count": 115,
   "id": "518e7a13-5c96-46d2-91c7-5193ac9a4d9b",
   "metadata": {},
   "outputs": [
    {
     "data": {
      "text/plain": [
       "array([[1]])"
      ]
     },
     "execution_count": 115,
     "metadata": {},
     "output_type": "execute_result"
    }
   ],
   "source": [
    "## like atleast_2d but always makes a copy\n",
    "c=np.array(1, subok=1, ndmin=2)\n",
    "c"
   ]
  },
  {
   "cell_type": "code",
   "execution_count": 116,
   "id": "88993c1c-fb48-49fa-97d6-234d9d5afd23",
   "metadata": {},
   "outputs": [
    {
     "data": {
      "text/plain": [
       "array([(b'M', 64., 75.), (b'F', 25., 60.)],\n",
       "      dtype=[('gender', 'S1'), ('age', '<f4'), ('weight', '<f4')])"
      ]
     },
     "execution_count": 116,
     "metadata": {},
     "output_type": "execute_result"
    }
   ],
   "source": [
    "#mydescriptor is a dictionary that specifies a custom data type for the record array\n",
    "mydescriptor = {'names': ('gender','age','weight'), 'formats': ('S1', 'f4', 'f4')}\n",
    "a = np.array([('M',64.0,75.0),('F',25.0,60.0)], dtype=mydescriptor)\n",
    "a"
   ]
  },
  {
   "cell_type": "code",
   "execution_count": 117,
   "id": "2a3ff8c3-8bd4-47a9-9448-226aa6c3c035",
   "metadata": {},
   "outputs": [
    {
     "data": {
      "text/plain": [
       "('gender', 'age', 'weight')"
      ]
     },
     "execution_count": 117,
     "metadata": {},
     "output_type": "execute_result"
    }
   ],
   "source": [
    "#a.dtype.names # Access to the ordered field names\n",
    "a.dtype.names "
   ]
  },
  {
   "cell_type": "code",
   "execution_count": 123,
   "id": "4728cf4f-a3a0-49e2-a9d6-797d5de79b35",
   "metadata": {},
   "outputs": [
    {
     "data": {
      "text/plain": [
       "array([2, 0], dtype=int8)"
      ]
     },
     "execution_count": 123,
     "metadata": {},
     "output_type": "execute_result"
    }
   ],
   "source": [
    "## another way of specifying the data type\n",
    "mydescriptor = [('age',np.int16),('Nchildren',np.int8),('weight',np.float32)] \n",
    "\n",
    "a =np.array([(64,2,75.0),(25,0,60.0)], dtype=mydescriptor)\n",
    "a['Nchildren']"
   ]
  },
  {
   "cell_type": "code",
   "execution_count": 125,
   "id": "5cdcc9a0-660b-4be3-9718-d0fafe5920b7",
   "metadata": {},
   "outputs": [
    {
     "data": {
      "text/plain": [
       "array([(1., 2., (1, 2))],\n",
       "      dtype=[('x', '<f4'), ('y', '<f4'), ('nested', [('i', '<i2'), ('j', '<i2')])])"
      ]
     },
     "execution_count": 125,
     "metadata": {},
     "output_type": "execute_result"
    }
   ],
   "source": [
    "## nested recarray. x, y value will be 4 byte float and nested i anj will be 2byte integer\n",
    "mydescriptor = np.dtype([('x', 'f4'),('y', 'f4'),('nested', [('i', 'i2'),('j','i2')])])\n",
    "t=np.array([(1.0, 2.0, (1,2))], dtype=mydescriptor)\n",
    "t"
   ]
  },
  {
   "cell_type": "code",
   "execution_count": 126,
   "id": "e573a1aa-4b48-4ffc-93f6-c3f04e6dae31",
   "metadata": {},
   "outputs": [
    {
     "data": {
      "text/plain": [
       "array([(1. , 2. , (1, 2)), (2.1, 3.2, (3, 2))],\n",
       "      dtype=[('x', '<f4'), ('y', '<f4'), ('nested', [('i', '<i2'), ('j', '<i2')])])"
      ]
     },
     "execution_count": 126,
     "metadata": {},
     "output_type": "execute_result"
    }
   ],
   "source": [
    "#input 2 array\n",
    "d=np.array([(1.0, 2.0, (1,2)), (2.1, 3.2, (3,2))], dtype=mydescriptor)\n",
    "d"
   ]
  },
  {
   "cell_type": "code",
   "execution_count": 133,
   "id": "6fefad59-6900-4cfd-9463-cf3aed494bc1",
   "metadata": {},
   "outputs": [
    {
     "data": {
      "text/plain": [
       "array([1. , 2.1], dtype=float32)"
      ]
     },
     "execution_count": 133,
     "metadata": {},
     "output_type": "execute_result"
    }
   ],
   "source": [
    "## a plain column\n",
    "y=np.array([ 1. , 2.0999999], dtype=np.float32)\n",
    "y"
   ]
  },
  {
   "cell_type": "code",
   "execution_count": 136,
   "id": "e332e046-7faf-4d50-a579-59aa2fe1fc86",
   "metadata": {},
   "outputs": [
    {
     "data": {
      "text/plain": [
       "array([(1., 2., (1, 2))],\n",
       "      dtype=[('x', '<f4'), ('y', '<f4'), ('nested', [('i', '<i2'), ('j', '<i2')])])"
      ]
     },
     "execution_count": 136,
     "metadata": {},
     "output_type": "execute_result"
    }
   ],
   "source": [
    "# a plain column inside a nested column\n",
    "mydescriptor = np.dtype([('x', 'f4'),('y', 'f4'),('nested', [('i', 'i2'),('j','i2')])])\n",
    "c=np.array([(1.0, 2.0, (1,2))], dtype=mydescriptor)\n",
    "c"
   ]
  },
  {
   "cell_type": "code",
   "execution_count": 137,
   "id": "26b21466-dd28-473f-a390-5ad7f7213ba7",
   "metadata": {},
   "outputs": [
    {
     "data": {
      "text/plain": [
       "[array([1, 2, 3, 4]), array([5, 6, 7]), array([ 8,  9, 10])]"
      ]
     },
     "execution_count": 137,
     "metadata": {},
     "output_type": "execute_result"
    }
   ],
   "source": [
    "#numpy.array_split() is a function in NumPy that splits a given array into multiple sub-arrays of equal or near-equal size. \n",
    "# Define an array with 10 elements\n",
    "arr = np.array([1, 2, 3, 4, 5, 6, 7, 8, 9, 10])\n",
    "\n",
    "# Split the array into 3 sub-arrays\n",
    "sub_arrays = np.array_split(arr, 3)\n",
    "\n",
    "sub_arrays"
   ]
  },
  {
   "cell_type": "code",
   "execution_count": 139,
   "id": "558004c4-14e7-413d-bd76-fa6c4f5a7785",
   "metadata": {},
   "outputs": [
    {
     "data": {
      "text/plain": [
       "array([1, 2, 3])"
      ]
     },
     "execution_count": 139,
     "metadata": {},
     "output_type": "execute_result"
    }
   ],
   "source": [
    "#numpy.asarray() is a function that converts the input to a NumPy array\n",
    "l = [1, 2, 3]\n",
    "\n",
    "# Convert the list to a NumPy array\n",
    "arr = np.asarray(l)\n",
    "arr\n"
   ]
  },
  {
   "cell_type": "code",
   "execution_count": 140,
   "id": "0c54707a-2c20-4f4b-963a-73746ff20406",
   "metadata": {},
   "outputs": [
    {
     "data": {
      "text/plain": [
       "array([1, 2, 3])"
      ]
     },
     "execution_count": 140,
     "metadata": {},
     "output_type": "execute_result"
    }
   ],
   "source": [
    "#asanyarray()\n",
    "l = [1, 2, 3]\n",
    "\n",
    "# Convert the list to a NumPy array\n",
    "arr = np.asarray(l)\n",
    "arr"
   ]
  },
  {
   "cell_type": "code",
   "execution_count": 143,
   "id": "17fa41ad-6bf4-428f-9060-2fb9e3004905",
   "metadata": {},
   "outputs": [
    {
     "data": {
      "text/plain": [
       "matrix([[1, 2],\n",
       "        [3, 4]])"
      ]
     },
     "execution_count": 143,
     "metadata": {},
     "output_type": "execute_result"
    }
   ],
   "source": [
    "#numpy.asmatrix() is a function that converts the input to a NumPy matrix.\n",
    "#Define a 2D list\n",
    "lst = [[1, 2], [3, 4]]\n",
    "\n",
    "# Convert the list to a NumPy matrix\n",
    "mat = np.asmatrix(lst)\n",
    "mat"
   ]
  },
  {
   "cell_type": "code",
   "execution_count": 146,
   "id": "b064d983-70a8-4993-908d-7ded23aea7e9",
   "metadata": {},
   "outputs": [
    {
     "data": {
      "text/plain": [
       "array([1., 2., 3.])"
      ]
     },
     "execution_count": 146,
     "metadata": {},
     "output_type": "execute_result"
    }
   ],
   "source": [
    "#numpy.astype() is a method of a NumPy array that returns a new array with the same data but a different data type.\n",
    "x = np.array([1,2,3])\n",
    "y = x.astype(np.float64)\n",
    "y\n",
    "             "
   ]
  },
  {
   "cell_type": "code",
   "execution_count": 149,
   "id": "9eda4fa3-796c-45cc-b683-4131299218a5",
   "metadata": {},
   "outputs": [
    {
     "data": {
      "text/plain": [
       "(1,)"
      ]
     },
     "execution_count": 149,
     "metadata": {},
     "output_type": "execute_result"
    }
   ],
   "source": [
    "#numpy.atleast_1d() is a function that ensures that the input array has at least one dimension. \n",
    "u = 42\n",
    "\n",
    "# Convert the scalar to a 1D array\n",
    "arr = np.atleast_1d(u)\n",
    "arr\n",
    "arr.shape"
   ]
  },
  {
   "cell_type": "code",
   "execution_count": 150,
   "id": "9be69c78-054f-488c-be77-71d906bc190b",
   "metadata": {},
   "outputs": [
    {
     "name": "stdout",
     "output_type": "stream",
     "text": [
      "[[1 2 3]]\n"
     ]
    }
   ],
   "source": [
    "##numpy.atleast_1d() is a function that ensures that the input array has at least two dimension. \n",
    "x = np.array([1, 2, 3])\n",
    "y = np.atleast_2d(x)\n",
    "print(y)"
   ]
  },
  {
   "cell_type": "code",
   "execution_count": 151,
   "id": "6e38766a-a858-4d0a-8c3d-1309268ff84c",
   "metadata": {},
   "outputs": [
    {
     "name": "stdout",
     "output_type": "stream",
     "text": [
      "[[[1]\n",
      "  [2]\n",
      "  [3]]]\n"
     ]
    }
   ],
   "source": [
    "#atleast_3d() is a function in NumPy, a popular Python library used for numerical computing, that is used to ensure that a given array has at least three dimensions.\n",
    "x = np.array([1, 2, 3])\n",
    "y = np.atleast_3d(x)\n",
    "print(y)"
   ]
  },
  {
   "cell_type": "code",
   "execution_count": 152,
   "id": "648c8d75-da2b-40e9-b0fa-3a9ab87fd2b4",
   "metadata": {},
   "outputs": [
    {
     "data": {
      "text/plain": [
       "array([2., 3.])"
      ]
     },
     "execution_count": 152,
     "metadata": {},
     "output_type": "execute_result"
    }
   ],
   "source": [
    "#average() to compute the average of an array along a specified axis\n",
    "a = np.array([[1, 2], [3, 4]])\n",
    "average_along_axis_0 = np.average(a, axis=0)\n",
    "average_along_axis_0"
   ]
  },
  {
   "cell_type": "code",
   "execution_count": 153,
   "id": "f3dbc16a-5763-407e-a09b-8cb8de975e83",
   "metadata": {},
   "outputs": [
    {
     "data": {
      "text/plain": [
       "array([[0.15270458, 0.02094252],\n",
       "       [0.01487203, 0.12337567]])"
      ]
     },
     "execution_count": 153,
     "metadata": {},
     "output_type": "execute_result"
    }
   ],
   "source": [
    "## Beta distribution a=1, b=10\n",
    "from numpy import *\n",
    "from numpy.random import *\n",
    "beta(a=1,b=10,size=(2,2))\n"
   ]
  },
  {
   "cell_type": "code",
   "execution_count": 154,
   "id": "6c722825-56dc-4926-b6d3-e10bfee6b258",
   "metadata": {},
   "outputs": [
    {
     "name": "stdout",
     "output_type": "stream",
     "text": [
      "101010\n"
     ]
    }
   ],
   "source": [
    "#binary_repr() is a function in NumPy,  that returns a binary string representation of an integer.\n",
    "num = 42\n",
    "binary_string = np.binary_repr(num)\n",
    "print(binary_string)"
   ]
  },
  {
   "cell_type": "code",
   "execution_count": 155,
   "id": "cf155345-dc84-4077-a804-698dd8d50e98",
   "metadata": {},
   "outputs": [
    {
     "name": "stdout",
     "output_type": "stream",
     "text": [
      "[1 3 1 1 0 0 0 1]\n"
     ]
    }
   ],
   "source": [
    "#bincount() is a function in NumPy, \n",
    "#that counts the number of occurrences of each value in an array of non-negative integers. \n",
    "x = np.array([0, 1, 1, 3, 2, 1, 7])\n",
    "counts = np.bincount(x)\n",
    "print(counts)"
   ]
  },
  {
   "cell_type": "code",
   "execution_count": 156,
   "id": "5aa1bf97-c05b-4524-a2ac-458d94f60a2c",
   "metadata": {},
   "outputs": [
    {
     "name": "stdout",
     "output_type": "stream",
     "text": [
      "[ 0.   2.5  5.   7.5 10. ]\n"
     ]
    }
   ],
   "source": [
    "#linspace() is a function in NumPy, \n",
    "#that returns evenly spaced numbers over a specified interval\n",
    "x = np.linspace(0, 10, num=5)\n",
    "print(x)"
   ]
  },
  {
   "cell_type": "code",
   "execution_count": 157,
   "id": "cd04c353-c063-4493-9bb5-d31b4d82bf71",
   "metadata": {},
   "outputs": [
    {
     "name": "stdout",
     "output_type": "stream",
     "text": [
      "[  0.  25.  50.  75. 100.]\n"
     ]
    }
   ],
   "source": [
    "x = np.linspace(0, 100, num=5)\n",
    "print(x)"
   ]
  },
  {
   "cell_type": "code",
   "execution_count": 158,
   "id": "3126b767-b4d2-4916-bc66-0b083474b3a8",
   "metadata": {},
   "outputs": [
    {
     "name": "stdout",
     "output_type": "stream",
     "text": [
      "[0.27616268 0.8468255  0.39436959 0.1066328  0.1369489 ]\n"
     ]
    }
   ],
   "source": [
    "#unigform(),generating uniform random samples refers to generating random numbers from a continuous uniform distribution over a specified interval.\n",
    "samples = np.random.uniform(low=0.0, high=1.0, size=5)\n",
    "print(samples)"
   ]
  },
  {
   "cell_type": "code",
   "execution_count": 159,
   "id": "569c7950-205f-453b-be02-b82450e81de8",
   "metadata": {},
   "outputs": [
    {
     "data": {
      "text/plain": [
       "array([8.80918177, 9.51640416, 8.01055157, 5.19190073])"
      ]
     },
     "execution_count": 159,
     "metadata": {},
     "output_type": "execute_result"
    }
   ],
   "source": [
    "np.random.uniform(5,10,size = 4)"
   ]
  },
  {
   "cell_type": "code",
   "execution_count": 160,
   "id": "ab2d0e31-5608-4f4b-aaa1-86b48200f312",
   "metadata": {},
   "outputs": [
    {
     "data": {
      "text/plain": [
       "array([0.04933131, 0.13372083, 0.47629748, 0.74402915, 0.35910404])"
      ]
     },
     "execution_count": 160,
     "metadata": {},
     "output_type": "execute_result"
    }
   ],
   "source": [
    "#its give value from o to 1\n",
    "np.random.uniform(size = 5)"
   ]
  },
  {
   "cell_type": "code",
   "execution_count": 161,
   "id": "054e167d-d8e3-4a03-bad1-3e624a3d629c",
   "metadata": {},
   "outputs": [
    {
     "data": {
      "text/plain": [
       "array([[0.05211222, 0.44450489, 0.50261909],\n",
       "       [0.0774317 , 0.52707482, 0.58466042]])"
      ]
     },
     "execution_count": 161,
     "metadata": {},
     "output_type": "execute_result"
    }
   ],
   "source": [
    "#you can also made matrix by changing size \n",
    "np.random.uniform(size = (2,3))"
   ]
  },
  {
   "cell_type": "code",
   "execution_count": 162,
   "id": "4c90f70b-5f85-45a4-9e44-c8d36f89f822",
   "metadata": {},
   "outputs": [
    {
     "data": {
      "text/plain": [
       "array([7, 9, 8, 6, 7, 5, 9, 8, 8, 7])"
      ]
     },
     "execution_count": 162,
     "metadata": {},
     "output_type": "execute_result"
    }
   ],
   "source": [
    "#random.randint()  \n",
    "#that generates random integers within a specified range. \n",
    "#It is often used in simulations, games, and other applications where random numbers are needed.\n",
    "np.random.randint(5,10,10)"
   ]
  },
  {
   "cell_type": "code",
   "execution_count": 166,
   "id": "dbe87e9f-18db-4f73-b2ed-b2d545dd1d9f",
   "metadata": {},
   "outputs": [
    {
     "data": {
      "text/plain": [
       "array([0.97092696, 0.85760936, 0.57156864, 0.87285591, 0.12040902,\n",
       "       0.87056086, 0.72394112, 0.79719142, 0.19409577, 0.83959135])"
      ]
     },
     "execution_count": 166,
     "metadata": {},
     "output_type": "execute_result"
    }
   ],
   "source": [
    "#t generate float with random()\n",
    "np.random.random(10)"
   ]
  },
  {
   "cell_type": "code",
   "execution_count": 167,
   "id": "a9e3ffe1-25e2-4ef7-8463-d709d878040c",
   "metadata": {},
   "outputs": [
    {
     "name": "stdout",
     "output_type": "stream",
     "text": [
      "[ 1.          1.77827941  3.16227766  5.62341325 10.        ]\n"
     ]
    }
   ],
   "source": [
    "#logspace()used to generate a sequence of numbers that are spaced evenly on a logarithmic scale.\n",
    "# Generate 5 values spaced evenly on a logarithmic scale between 1 and 10\n",
    "values = np.logspace(0, 1, 5)\n",
    "\n",
    "print(values)"
   ]
  },
  {
   "cell_type": "code",
   "execution_count": 168,
   "id": "1595e0a2-1b13-41df-bd54-2d0b4279a4de",
   "metadata": {},
   "outputs": [
    {
     "name": "stdout",
     "output_type": "stream",
     "text": [
      "[1.00000000e+00 5.65685425e+00 3.20000000e+01 1.81019336e+02\n",
      " 1.02400000e+03]\n"
     ]
    }
   ],
   "source": [
    "#np.logspace() function from the NumPy library is used to generate a sequence of numbers that are spaced evenly on a logarithmic scale.\n",
    "#[2^0, 2^2, 2^4, 2^8, 2^10] = [1, 4, 16, 256, 1024]\n",
    "values = np.logspace(0, 10, 5,base=2)\n",
    "\n",
    "print(values)\n"
   ]
  },
  {
   "cell_type": "code",
   "execution_count": 169,
   "id": "e5477e70-c73e-420a-b5d1-01b8620601cb",
   "metadata": {},
   "outputs": [
    {
     "data": {
      "text/plain": [
       "array([[0, 0, 0],\n",
       "       [0, 0, 0]])"
      ]
     },
     "execution_count": 169,
     "metadata": {},
     "output_type": "execute_result"
    }
   ],
   "source": [
    "#Zero()\n",
    "np.zeros((2,3),dtype='int')"
   ]
  },
  {
   "cell_type": "code",
   "execution_count": 170,
   "id": "28d9d7de-ffff-4e67-899a-e62ae13fbecc",
   "metadata": {},
   "outputs": [
    {
     "data": {
      "text/plain": [
       "array([0., 0., 0., 0., 0.])"
      ]
     },
     "execution_count": 170,
     "metadata": {},
     "output_type": "execute_result"
    }
   ],
   "source": [
    "np.zeros(5)"
   ]
  },
  {
   "cell_type": "code",
   "execution_count": 171,
   "id": "43a8b06c-8392-4651-98ac-29ccbc2651b9",
   "metadata": {},
   "outputs": [
    {
     "data": {
      "text/plain": [
       "array([[1., 1., 1., 1.],\n",
       "       [1., 1., 1., 1.],\n",
       "       [1., 1., 1., 1.]])"
      ]
     },
     "execution_count": 171,
     "metadata": {},
     "output_type": "execute_result"
    }
   ],
   "source": [
    "#one()\n",
    "np.ones((3,4))"
   ]
  },
  {
   "cell_type": "code",
   "execution_count": 172,
   "id": "573565e9-044d-4539-a240-48cb0f50d881",
   "metadata": {},
   "outputs": [
    {
     "data": {
      "text/plain": [
       "array([[2, 2, 2, 2],\n",
       "       [2, 2, 2, 2]])"
      ]
     },
     "execution_count": 172,
     "metadata": {},
     "output_type": "execute_result"
    }
   ],
   "source": [
    "#full() function\n",
    "np.full((2,4),fill_value=2)"
   ]
  },
  {
   "cell_type": "code",
   "execution_count": 173,
   "id": "5683fa5e-8b80-455e-87e4-a1273fd527ca",
   "metadata": {},
   "outputs": [
    {
     "data": {
      "text/plain": [
       "array([[1., 0., 0., 0.],\n",
       "       [0., 1., 0., 0.],\n",
       "       [0., 0., 1., 0.],\n",
       "       [0., 0., 0., 1.]])"
      ]
     },
     "execution_count": 173,
     "metadata": {},
     "output_type": "execute_result"
    }
   ],
   "source": [
    "#identity() function\n",
    "np.identity(4)"
   ]
  },
  {
   "cell_type": "markdown",
   "id": "516051ba-cc7d-4ed3-a0c7-633e1d30cc83",
   "metadata": {},
   "source": [
    "######Array Operations"
   ]
  },
  {
   "cell_type": "code",
   "execution_count": 174,
   "id": "e6c616bf-91a4-4691-b20d-4f98d4b8069d",
   "metadata": {},
   "outputs": [
    {
     "data": {
      "text/plain": [
       "1"
      ]
     },
     "execution_count": 174,
     "metadata": {},
     "output_type": "execute_result"
    }
   ],
   "source": [
    "\n",
    "#min \n",
    "arr = np.array([1,1,2,3,3,4,5,6,6,2])\n",
    "np.min(arr)"
   ]
  },
  {
   "cell_type": "code",
   "execution_count": 175,
   "id": "2db158d6-f7be-400a-885d-9920ac2e0b69",
   "metadata": {},
   "outputs": [
    {
     "data": {
      "text/plain": [
       "6"
      ]
     },
     "execution_count": 175,
     "metadata": {},
     "output_type": "execute_result"
    }
   ],
   "source": [
    "#Max Return the maximum value from the array.\n",
    "arr = np.array([1,1,2,3,3,4,5,6,6,2])\n",
    "np.max(arr)"
   ]
  },
  {
   "cell_type": "code",
   "execution_count": 176,
   "id": "1420ded2-82fc-4aa6-834a-63b1df3a3ca8",
   "metadata": {},
   "outputs": [
    {
     "data": {
      "text/plain": [
       "(array([1, 2, 3, 4, 5, 6]), array([2, 2, 2, 1, 1, 2]))"
      ]
     },
     "execution_count": 176,
     "metadata": {},
     "output_type": "execute_result"
    }
   ],
   "source": [
    " #Unique\n",
    "#Return an array with all the unique elements sorted\n",
    "#return_index: if True, return the indices of the array.\n",
    "#return_inverse: if True, return the indices of the unique array.\n",
    "#return_counts: if True, return the number of times each unique element appears inside the array.\n",
    "#axis: The axis to operate on. By default, the array is considered flattened.\n",
    "np.unique(arr,return_counts=True)"
   ]
  },
  {
   "cell_type": "code",
   "execution_count": 177,
   "id": "53788332-6b8f-4e3d-a93e-5e2f29ebc5d5",
   "metadata": {},
   "outputs": [
    {
     "data": {
      "text/plain": [
       "3"
      ]
     },
     "execution_count": 177,
     "metadata": {},
     "output_type": "execute_result"
    }
   ],
   "source": [
    "#mean\n",
    "np.mean(arr,dtype='int')"
   ]
  },
  {
   "cell_type": "code",
   "execution_count": 178,
   "id": "db99dd15-1d42-4865-8d00-ecd8461eefde",
   "metadata": {},
   "outputs": [
    {
     "data": {
      "text/plain": [
       "3.0"
      ]
     },
     "execution_count": 178,
     "metadata": {},
     "output_type": "execute_result"
    }
   ],
   "source": [
    "#Median¶\n",
    "#Return the median value of the array.\n",
    "np.median(arr)"
   ]
  },
  {
   "cell_type": "code",
   "execution_count": 179,
   "id": "36b0d5ff-e499-4b50-859e-f9af5858d02c",
   "metadata": {},
   "outputs": [
    {
     "data": {
      "text/plain": [
       "array([0, 1, 1, 2, 2, 2, 4, 4, 4])"
      ]
     },
     "execution_count": 179,
     "metadata": {},
     "output_type": "execute_result"
    }
   ],
   "source": [
    "#digitize() function is used to determine which bin a given value belongs to in a set of bins\n",
    "#Return the indices of the bins to which each value in the input array belongs.\n",
    "a = np.array([-0.9, 0.5, 0.9, 1, 1.2, 1.4, 3.6, 4.7, 5.3])\n",
    "bins = np.array([0,1,2,3])\n",
    "np.digitize(a,bins)"
   ]
  },
  {
   "cell_type": "code",
   "execution_count": 180,
   "id": "2652fadb-6bf7-4ca6-8fe2-1bc72613f06a",
   "metadata": {},
   "outputs": [
    {
     "data": {
      "text/plain": [
       "array([[ 5, 14,  8],\n",
       "       [ 2,  7, 14],\n",
       "       [12,  4,  8],\n",
       "       [14, 10, 10]])"
      ]
     },
     "execution_count": 180,
     "metadata": {},
     "output_type": "execute_result"
    }
   ],
   "source": [
    "#Reshape()\n",
    "A = np.random.randint(15,size=(4,3))\n",
    "A"
   ]
  },
  {
   "cell_type": "code",
   "execution_count": 181,
   "id": "69e85863-fc91-4395-81de-2202216482fd",
   "metadata": {},
   "outputs": [
    {
     "data": {
      "text/plain": [
       "array([[ 5, 14,  8,  2],\n",
       "       [ 7, 14, 12,  4],\n",
       "       [ 8, 14, 10, 10]])"
      ]
     },
     "execution_count": 181,
     "metadata": {},
     "output_type": "execute_result"
    }
   ],
   "source": [
    "A.reshape(3,4)"
   ]
  },
  {
   "cell_type": "code",
   "execution_count": 182,
   "id": "41cf739d-f556-4ffc-9f7e-43dc55c0a1cc",
   "metadata": {},
   "outputs": [
    {
     "data": {
      "text/plain": [
       "array([ 5, 14,  8,  2,  7, 14, 12,  4,  8, 14, 10, 10])"
      ]
     },
     "execution_count": 182,
     "metadata": {},
     "output_type": "execute_result"
    }
   ],
   "source": [
    "A.reshape(-1)"
   ]
  },
  {
   "cell_type": "code",
   "execution_count": 183,
   "id": "71ea97fa-ccfd-4119-8540-75404e7c6212",
   "metadata": {},
   "outputs": [
    {
     "data": {
      "text/plain": [
       "array([[ 8, 14,  1,  8, 11,  4,  9,  4,  1, 13, 13, 11]])"
      ]
     },
     "execution_count": 183,
     "metadata": {},
     "output_type": "execute_result"
    }
   ],
   "source": [
    "#Expand Dimensions,It is used to expand the dimensions of an array. \n",
    "#This method is useful for creating sample test data for testing a machine learning model.\n",
    "arr = np.array([ 8, 14,  1,  8, 11,  4,  9,  4, 1, 13, 13, 11])\n",
    "np.expand_dims(arr,axis=0)"
   ]
  },
  {
   "cell_type": "code",
   "execution_count": 184,
   "id": "85cc0ced-c40b-4952-a269-554b5effeac5",
   "metadata": {},
   "outputs": [
    {
     "data": {
      "text/plain": [
       "array([[ 8],\n",
       "       [14],\n",
       "       [ 1],\n",
       "       [ 8],\n",
       "       [11],\n",
       "       [ 4],\n",
       "       [ 9],\n",
       "       [ 4],\n",
       "       [ 1],\n",
       "       [13],\n",
       "       [13],\n",
       "       [11]])"
      ]
     },
     "execution_count": 184,
     "metadata": {},
     "output_type": "execute_result"
    }
   ],
   "source": [
    "np.expand_dims(arr,axis=1)"
   ]
  },
  {
   "cell_type": "code",
   "execution_count": 185,
   "id": "f44b2b15-a4bd-4420-b9e3-8c7758dc9872",
   "metadata": {},
   "outputs": [
    {
     "data": {
      "text/plain": [
       "array([ 8, 14,  1,  8, 11,  4,  9,  4,  1, 13, 13, 11])"
      ]
     },
     "execution_count": 185,
     "metadata": {},
     "output_type": "execute_result"
    }
   ],
   "source": [
    "#Squeeze,Reduce the dimension of an array by removing single-dimensional entrie\n",
    "arr = np.array([[ 8],[14],[ 1],[ 8],[11],[ 4],[ 9],[ 4],[ 1],[13],[13],[11]])\n",
    "np.squeeze(arr)"
   ]
  },
  {
   "cell_type": "code",
   "execution_count": 186,
   "id": "5862e956-bf47-4d03-b402-7a8f6d5986f2",
   "metadata": {},
   "outputs": [
    {
     "data": {
      "text/plain": [
       "3"
      ]
     },
     "execution_count": 186,
     "metadata": {},
     "output_type": "execute_result"
    }
   ],
   "source": [
    "#Count Non-Zero,Count all the non-zero elements and return their count\n",
    "a = np.array([0,0,1,1,1,0])\n",
    "np.count_nonzero(a)"
   ]
  },
  {
   "cell_type": "code",
   "execution_count": 187,
   "id": "cda971e1-bbe7-4f03-b7e5-6c7c3334d1cc",
   "metadata": {},
   "outputs": [
    {
     "data": {
      "text/plain": [
       "array([[2],\n",
       "       [3],\n",
       "       [4]])"
      ]
     },
     "execution_count": 187,
     "metadata": {},
     "output_type": "execute_result"
    }
   ],
   "source": [
    "#argwhere,Find and return all the indices of non-zero elements.\n",
    "a = np.array([0,0,1,1,1,0])\n",
    "np.argwhere(a)"
   ]
  },
  {
   "cell_type": "code",
   "execution_count": 188,
   "id": "7e78be0e-31d6-4f42-ae8a-63ed8adeabf1",
   "metadata": {},
   "outputs": [
    {
     "data": {
      "text/plain": [
       "1"
      ]
     },
     "execution_count": 188,
     "metadata": {},
     "output_type": "execute_result"
    }
   ],
   "source": [
    "#argmax & argmin,argmax returns the index of the max element from the array\n",
    "arr = np.array([[0.12,0.64,0.19,0.05]])\n",
    "np.argmax(arr)"
   ]
  },
  {
   "cell_type": "code",
   "execution_count": 189,
   "id": "9acbe69d-2645-4f2f-94ae-d0e8462d8605",
   "metadata": {},
   "outputs": [
    {
     "data": {
      "text/plain": [
       "0"
      ]
     },
     "execution_count": 189,
     "metadata": {},
     "output_type": "execute_result"
    }
   ],
   "source": [
    "np.argmin(min)"
   ]
  },
  {
   "cell_type": "code",
   "execution_count": 190,
   "id": "30054589-d895-4408-9523-2e81100c0a25",
   "metadata": {},
   "outputs": [
    {
     "data": {
      "text/plain": [
       "array([1, 2, 3, 4, 5, 7])"
      ]
     },
     "execution_count": 190,
     "metadata": {},
     "output_type": "execute_result"
    }
   ],
   "source": [
    "#Sort,Sort the array and return.\n",
    "#kind: Sorting algorithm to use. {‘quicksort’, ‘mergesort’, ‘heapsort’, ‘stable’}\n",
    "arr = np.array([2,3,1,7,4,5])\n",
    "np.sort(arr)"
   ]
  },
  {
   "cell_type": "code",
   "execution_count": 191,
   "id": "400d1e77-7fdb-4576-9873-eaa6a3e72b32",
   "metadata": {},
   "outputs": [
    {
     "data": {
      "text/plain": [
       "array([[1, 3, 4],\n",
       "       [2, 4, 3]])"
      ]
     },
     "execution_count": 191,
     "metadata": {},
     "output_type": "execute_result"
    }
   ],
   "source": [
    "#Abs,Return the absolute values of elements inside an array\n",
    "A = np.array([[1,-3,4],[-2,-4,3]])\n",
    "np.abs(A)"
   ]
  },
  {
   "cell_type": "code",
   "execution_count": 192,
   "id": "8dace97e-e48c-4172-a883-baa38753951d",
   "metadata": {},
   "outputs": [
    {
     "data": {
      "text/plain": [
       "array([[0.37338582, 0.29348096, 0.00880868, 0.26500329],\n",
       "       [0.2086375 , 0.00938276, 0.50363064, 0.41441671],\n",
       "       [0.50626341, 0.67323295, 0.89022835, 0.16932601]])"
      ]
     },
     "execution_count": 192,
     "metadata": {},
     "output_type": "execute_result"
    }
   ],
   "source": [
    "#Round,Round the float values to a specified number of decimal points.\n",
    "a = np.random.random(size=(3,4))\n",
    "a"
   ]
  },
  {
   "cell_type": "code",
   "execution_count": 193,
   "id": "6381c9e2-8d64-46bb-8655-493d5a45eb1b",
   "metadata": {},
   "outputs": [
    {
     "data": {
      "text/plain": [
       "array([[0., 0., 0., 0.],\n",
       "       [0., 0., 1., 0.],\n",
       "       [1., 1., 1., 0.]])"
      ]
     },
     "execution_count": 193,
     "metadata": {},
     "output_type": "execute_result"
    }
   ],
   "source": [
    "np.round(a,decimals=0)"
   ]
  },
  {
   "cell_type": "code",
   "execution_count": 194,
   "id": "65574636-d0dd-4eb1-8d8d-aee2f3ac4619",
   "metadata": {},
   "outputs": [
    {
     "data": {
      "text/plain": [
       "array([[0., 0., 0., 0.],\n",
       "       [0., 0., 1., 0.],\n",
       "       [1., 1., 1., 0.]])"
      ]
     },
     "execution_count": 194,
     "metadata": {},
     "output_type": "execute_result"
    }
   ],
   "source": [
    "np.round(a)"
   ]
  },
  {
   "cell_type": "code",
   "execution_count": 195,
   "id": "baa13350-40b3-4624-a5b1-52d1f276aa96",
   "metadata": {},
   "outputs": [
    {
     "data": {
      "text/plain": [
       "array([[0.4, 0.3, 0. , 0.3],\n",
       "       [0.2, 0. , 0.5, 0.4],\n",
       "       [0.5, 0.7, 0.9, 0.2]])"
      ]
     },
     "execution_count": 195,
     "metadata": {},
     "output_type": "execute_result"
    }
   ],
   "source": [
    "np.round(a,decimals=1)"
   ]
  },
  {
   "cell_type": "code",
   "execution_count": 197,
   "id": "add91853-be07-4d9c-bf7f-d630ac64a0cd",
   "metadata": {},
   "outputs": [
    {
     "data": {
      "text/plain": [
       "array([0, 1, 0, 0, 5, 5, 5, 2, 3])"
      ]
     },
     "execution_count": 197,
     "metadata": {},
     "output_type": "execute_result"
    }
   ],
   "source": [
    "#Clip,It is used to keep the values of an array within a range.\n",
    "arr = np.array([0,1,-3,-4,5,6,7,2,3])\n",
    "arr.clip(0,5)"
   ]
  },
  {
   "cell_type": "code",
   "execution_count": 204,
   "id": "91861fce-4b31-4db3-955c-bb13dec2c388",
   "metadata": {},
   "outputs": [
    {
     "name": "stdout",
     "output_type": "stream",
     "text": [
      "Indices where a > 5:  (array([1, 3, 5, 6]),)\n"
     ]
    }
   ],
   "source": [
    "#np.where() is a NumPy function that returns the indices of elements in an array that satisfy a certain condition.\n",
    "a = np.array([1, 6, 4, 9, 2, 8, 7])\n",
    "indices = np.where(a>5)\n",
    "print(\"Indices where a > 5: \", indices)\n"
   ]
  },
  {
   "cell_type": "code",
   "execution_count": 205,
   "id": "4dacd99d-d9bc-4741-abe1-dfde9b2ea4e5",
   "metadata": {},
   "outputs": [
    {
     "data": {
      "text/plain": [
       "array([1, 2, 3, 4, 5, 6])"
      ]
     },
     "execution_count": 205,
     "metadata": {},
     "output_type": "execute_result"
    }
   ],
   "source": [
    "# Put,Replaces specified elements of an array with given values.\n",
    "arr = np.array([1,2,3,4,5,6])\n",
    "arr"
   ]
  },
  {
   "cell_type": "code",
   "execution_count": 206,
   "id": "7b1ec2a9-bd4b-488a-a89f-2bf96b568960",
   "metadata": {},
   "outputs": [
    {
     "data": {
      "text/plain": [
       "array([1, 6, 7, 4, 5, 6])"
      ]
     },
     "execution_count": 206,
     "metadata": {},
     "output_type": "execute_result"
    }
   ],
   "source": [
    "#where [1,2]is index\n",
    "np.put(arr,[1,2],[6,7])\n",
    "arr"
   ]
  },
  {
   "cell_type": "code",
   "execution_count": 208,
   "id": "96e5022d-3029-4b69-b5f6-e90fba11eb50",
   "metadata": {},
   "outputs": [
    {
     "name": "stdout",
     "output_type": "stream",
     "text": [
      "Before arr1 [1 2 3]\n",
      "Before arr2 [1 2 3]\n",
      "After arr1 [4 5 6]\n",
      "After arr2 [4 5 6]\n"
     ]
    }
   ],
   "source": [
    "#Copyto,Copy the content of one array into another.\n",
    "arr1 = np.array([1,2,3])\n",
    "arr2 = np.array([4,5,6])\n",
    "print(\"Before arr1\",arr1)\n",
    "print(\"Before arr2\",arr1)\n",
    "np.copyto(arr1,arr2)\n",
    "print(\"After arr1\",arr1)\n",
    "print(\"After arr2\",arr2)"
   ]
  },
  {
   "cell_type": "code",
   "execution_count": null,
   "id": "4c8bdf24-c702-4443-93db-d755712ee0b5",
   "metadata": {},
   "outputs": [],
   "source": [
    "## Set operation"
   ]
  },
  {
   "cell_type": "code",
   "execution_count": 209,
   "id": "a4a4a97a-a487-4214-9185-1eebebd40e42",
   "metadata": {},
   "outputs": [
    {
     "data": {
      "text/plain": [
       "array([1, 3, 4, 5])"
      ]
     },
     "execution_count": 209,
     "metadata": {},
     "output_type": "execute_result"
    }
   ],
   "source": [
    "#Retrieve Common Elements\n",
    "#np.intersect1d function returns all the unique values from both arrays in a sorted manner.\n",
    "ar1 = np.array([1,2,3,4,5,6])\n",
    "ar2 = np.array([3,4,5,8,9,1])\n",
    "np.intersect1d(ar1,ar2)"
   ]
  },
  {
   "cell_type": "code",
   "execution_count": 210,
   "id": "7d235fa6-a535-4073-b557-a88cb0794114",
   "metadata": {},
   "outputs": [
    {
     "data": {
      "text/plain": [
       "(array([1, 3, 4, 5]), array([0, 2, 3, 4]), array([5, 0, 1, 2]))"
      ]
     },
     "execution_count": 210,
     "metadata": {},
     "output_type": "execute_result"
    }
   ],
   "source": [
    "#return the indics of intersection  result\n",
    "np.intersect1d(ar1,ar2,return_indices=True)"
   ]
  },
  {
   "cell_type": "code",
   "execution_count": 211,
   "id": "ee31782f-a656-4104-a2d9-ad3448f72c30",
   "metadata": {},
   "outputs": [
    {
     "data": {
      "text/plain": [
       "array([1, 3, 4])"
      ]
     },
     "execution_count": 211,
     "metadata": {},
     "output_type": "execute_result"
    }
   ],
   "source": [
    "#Difference\n",
    "#np.setdiff1d function returns all the unique elements from array 1 that are not present in arr2.\n",
    "a = np.array([1, 7, 3, 2, 4, 1])\n",
    "b = np.array([9, 2, 5, 6, 7, 8])\n",
    "np.setdiff1d(a, b)"
   ]
  },
  {
   "cell_type": "code",
   "execution_count": 212,
   "id": "c124d7ca-a17d-45a0-acce-ba1593d0363f",
   "metadata": {},
   "outputs": [
    {
     "data": {
      "text/plain": [
       "array([ 2,  3,  6,  9, 36])"
      ]
     },
     "execution_count": 212,
     "metadata": {},
     "output_type": "execute_result"
    }
   ],
   "source": [
    "#Extracts Unique Elements From Both Arrays¶\n",
    "#setxor1d function will return all the unique values from both arrays in sorted order.\n",
    "a = np.array([1, 2, 3, 4, 6])\n",
    "b = np.array([1, 4, 9, 4, 36])\n",
    "np.setxor1d(a,b)"
   ]
  },
  {
   "cell_type": "code",
   "execution_count": 216,
   "id": "061ed22d-7477-421c-971a-74a459d8b46c",
   "metadata": {},
   "outputs": [
    {
     "data": {
      "text/plain": [
       "array([ 1,  2,  3,  4,  5, 36])"
      ]
     },
     "execution_count": 216,
     "metadata": {},
     "output_type": "execute_result"
    }
   ],
   "source": [
    "#Union\n",
    "#union1d function will combine both arrays into one.\n",
    "a = np.array([1, 2, 3, 4, 5])\n",
    "b = np.array([1, 3, 5, 4, 36])\n",
    "np.union1d(a,b)"
   ]
  },
  {
   "cell_type": "code",
   "execution_count": null,
   "id": "7bb2c812-3a4d-4896-913f-63b9a8c1b4cf",
   "metadata": {},
   "outputs": [],
   "source": [
    "####Splitting"
   ]
  },
  {
   "cell_type": "code",
   "execution_count": 217,
   "id": "b3672608-80a8-40eb-bb87-2d8ae1f0cdcd",
   "metadata": {},
   "outputs": [
    {
     "data": {
      "text/plain": [
       "[array([[3, 4],\n",
       "        [6, 7]]),\n",
       " array([[5, 2],\n",
       "        [2, 6]])]"
      ]
     },
     "execution_count": 217,
     "metadata": {},
     "output_type": "execute_result"
    }
   ],
   "source": [
    "#Horizontal Split\n",
    "#hsplit function will split the data horizontally into n equal parts.\n",
    "A = np.array([[3,4,5,2],[6,7,2,6]])\n",
    "np.hsplit(A,2) "
   ]
  },
  {
   "cell_type": "code",
   "execution_count": 218,
   "id": "41fe2059-1781-4144-aaa9-c859001c6144",
   "metadata": {},
   "outputs": [
    {
     "data": {
      "text/plain": [
       "[array([[3],\n",
       "        [6]]),\n",
       " array([[4],\n",
       "        [7]]),\n",
       " array([[5],\n",
       "        [2]]),\n",
       " array([[2],\n",
       "        [6]])]"
      ]
     },
     "execution_count": 218,
     "metadata": {},
     "output_type": "execute_result"
    }
   ],
   "source": [
    "A = np.array([[3,4,5,2],[6,7,2,6]])\n",
    "np.hsplit(A,4) "
   ]
  },
  {
   "cell_type": "code",
   "execution_count": 222,
   "id": "66dd1525-86f3-437f-a3b8-9672ac3342fc",
   "metadata": {},
   "outputs": [
    {
     "data": {
      "text/plain": [
       "[array([[3, 4, 5, 2]]), array([[6, 7, 2, 6]])]"
      ]
     },
     "execution_count": 222,
     "metadata": {},
     "output_type": "execute_result"
    }
   ],
   "source": [
    "#Vertical\n",
    "#vsplit will split the data vertically into n equal parts.\n",
    "A = np.array([[3,4,5,2],[6,7,2,6]])\n",
    "np.vsplit(A,2)"
   ]
  },
  {
   "cell_type": "code",
   "execution_count": 223,
   "id": "afbeff12-52ed-4fe7-8932-c58664e7a37a",
   "metadata": {},
   "outputs": [
    {
     "data": {
      "text/plain": [
       "array([ 1,  2,  3,  4,  5,  1,  4,  9, 16, 25])"
      ]
     },
     "execution_count": 223,
     "metadata": {},
     "output_type": "execute_result"
    }
   ],
   "source": [
    "###Stacking\n",
    "#Horizontal Stacking,hstack will stack appends one array at the end of another.\n",
    "a = np.array([1,2,3,4,5])\n",
    "b = np.array([1,4,9,16,25])\n",
    "np.hstack((a,b))"
   ]
  },
  {
   "cell_type": "code",
   "execution_count": 224,
   "id": "12dfa785-cbdd-4336-9a06-8bdd29529e84",
   "metadata": {},
   "outputs": [
    {
     "data": {
      "text/plain": [
       "array([[ 1,  2,  3,  4,  5],\n",
       "       [ 1,  4,  9, 16, 25]])"
      ]
     },
     "execution_count": 224,
     "metadata": {},
     "output_type": "execute_result"
    }
   ],
   "source": [
    "#Vertical Stacking,vstack will stack one array on top of another.\n",
    "np.vstack((a,b))"
   ]
  },
  {
   "cell_type": "code",
   "execution_count": 225,
   "id": "7f14c1ad-ce3c-44eb-8e15-b8f204a5db45",
   "metadata": {},
   "outputs": [
    {
     "data": {
      "text/plain": [
       "array(['2017', '2017', '2017'], dtype='<U4')"
      ]
     },
     "execution_count": 225,
     "metadata": {},
     "output_type": "execute_result"
    }
   ],
   "source": [
    "#Repeat,It is used to repeat elements of an array for n number of times.\n",
    "np.repeat('2017',3)"
   ]
  },
  {
   "cell_type": "code",
   "execution_count": 227,
   "id": "744df9a1-2cc1-433d-9a2b-e2af101fd813",
   "metadata": {},
   "outputs": [],
   "source": [
    "import pandas as pd"
   ]
  },
  {
   "cell_type": "code",
   "execution_count": 228,
   "id": "42004ecf-c01a-48ff-98b5-af006dae0ad8",
   "metadata": {},
   "outputs": [
    {
     "data": {
      "text/html": [
       "<div>\n",
       "<style scoped>\n",
       "    .dataframe tbody tr th:only-of-type {\n",
       "        vertical-align: middle;\n",
       "    }\n",
       "\n",
       "    .dataframe tbody tr th {\n",
       "        vertical-align: top;\n",
       "    }\n",
       "\n",
       "    .dataframe thead th {\n",
       "        text-align: right;\n",
       "    }\n",
       "</style>\n",
       "<table border=\"1\" class=\"dataframe\">\n",
       "  <thead>\n",
       "    <tr style=\"text-align: right;\">\n",
       "      <th></th>\n",
       "      <th>Product</th>\n",
       "      <th>ContainerSales</th>\n",
       "    </tr>\n",
       "  </thead>\n",
       "  <tbody>\n",
       "    <tr>\n",
       "      <th>0</th>\n",
       "      <td>Mango</td>\n",
       "      <td>40</td>\n",
       "    </tr>\n",
       "    <tr>\n",
       "      <th>1</th>\n",
       "      <td>Apple</td>\n",
       "      <td>90</td>\n",
       "    </tr>\n",
       "    <tr>\n",
       "      <th>2</th>\n",
       "      <td>Banana</td>\n",
       "      <td>130</td>\n",
       "    </tr>\n",
       "  </tbody>\n",
       "</table>\n",
       "</div>"
      ],
      "text/plain": [
       "  Product  ContainerSales\n",
       "0   Mango              40\n",
       "1   Apple              90\n",
       "2  Banana             130"
      ]
     },
     "execution_count": 228,
     "metadata": {},
     "output_type": "execute_result"
    }
   ],
   "source": [
    "fruits = pd.DataFrame([\n",
    "    ['Mango',40],\n",
    "    ['Apple',90],\n",
    "    ['Banana',130]\n",
    "],columns=['Product','ContainerSales'])\n",
    "fruits\n",
    "    "
   ]
  },
  {
   "cell_type": "code",
   "execution_count": 229,
   "id": "eda30c73-d98a-410e-af43-b0368e1325a0",
   "metadata": {},
   "outputs": [
    {
     "data": {
      "text/html": [
       "<div>\n",
       "<style scoped>\n",
       "    .dataframe tbody tr th:only-of-type {\n",
       "        vertical-align: middle;\n",
       "    }\n",
       "\n",
       "    .dataframe tbody tr th {\n",
       "        vertical-align: top;\n",
       "    }\n",
       "\n",
       "    .dataframe thead th {\n",
       "        text-align: right;\n",
       "    }\n",
       "</style>\n",
       "<table border=\"1\" class=\"dataframe\">\n",
       "  <thead>\n",
       "    <tr style=\"text-align: right;\">\n",
       "      <th></th>\n",
       "      <th>Product</th>\n",
       "      <th>ContainerSales</th>\n",
       "      <th>year</th>\n",
       "    </tr>\n",
       "  </thead>\n",
       "  <tbody>\n",
       "    <tr>\n",
       "      <th>0</th>\n",
       "      <td>Mango</td>\n",
       "      <td>40</td>\n",
       "      <td>2020</td>\n",
       "    </tr>\n",
       "    <tr>\n",
       "      <th>1</th>\n",
       "      <td>Apple</td>\n",
       "      <td>90</td>\n",
       "      <td>2020</td>\n",
       "    </tr>\n",
       "    <tr>\n",
       "      <th>2</th>\n",
       "      <td>Banana</td>\n",
       "      <td>130</td>\n",
       "      <td>2020</td>\n",
       "    </tr>\n",
       "  </tbody>\n",
       "</table>\n",
       "</div>"
      ],
      "text/plain": [
       "  Product  ContainerSales  year\n",
       "0   Mango              40  2020\n",
       "1   Apple              90  2020\n",
       "2  Banana             130  2020"
      ]
     },
     "execution_count": 229,
     "metadata": {},
     "output_type": "execute_result"
    }
   ],
   "source": [
    "fruits['year'] = np.repeat(2020,fruits.shape[0])\n",
    "fruits"
   ]
  },
  {
   "cell_type": "code",
   "execution_count": 230,
   "id": "1958ded5-089a-46db-97bf-f941f2777757",
   "metadata": {},
   "outputs": [
    {
     "data": {
      "text/plain": [
       "array(['tinku', 'tinku', 'tinku', 'tinku', 'tinku'], dtype='<U5')"
      ]
     },
     "execution_count": 230,
     "metadata": {},
     "output_type": "execute_result"
    }
   ],
   "source": [
    "#tile,Construct an array by repeating A number of times given by reps.\n",
    "np.tile(\"tinku\",5)"
   ]
  },
  {
   "cell_type": "code",
   "execution_count": 231,
   "id": "d6d5dbdd-513f-48a2-8a9f-99952e12788d",
   "metadata": {},
   "outputs": [
    {
     "data": {
      "text/plain": [
       "array([1, 5, 9])"
      ]
     },
     "execution_count": 231,
     "metadata": {},
     "output_type": "execute_result"
    }
   ],
   "source": [
    "### Einsum,This function is used to compute many multi-dimensional and linear algebraic operations on arrays.\n",
    "a = np.arange(1,10).reshape(3,3)\n",
    "b = np.arange(21,30).reshape(3,3)\n",
    "## ▪️ᴇxᴛʀᴀᴄᴛꜱ ᴅɪᴀɢᴏɴᴀʟꜱ\n",
    "np.einsum('ii->i',a)"
   ]
  },
  {
   "cell_type": "code",
   "execution_count": 232,
   "id": "e1c9509f-889e-4567-99ae-02feb1db05e8",
   "metadata": {},
   "outputs": [
    {
     "data": {
      "text/plain": [
       "array([[1, 4, 7],\n",
       "       [2, 5, 8],\n",
       "       [3, 6, 9]])"
      ]
     },
     "execution_count": 232,
     "metadata": {},
     "output_type": "execute_result"
    }
   ],
   "source": [
    "#column no to row transfer\n",
    "## ▪️ᴛʀᴀɴꜱᴘᴏꜱᴇ\n",
    "np.einsum('ji',a)"
   ]
  },
  {
   "cell_type": "code",
   "execution_count": 233,
   "id": "4115a0dc-8462-4801-b065-e283f8b703c2",
   "metadata": {},
   "outputs": [
    {
     "data": {
      "text/plain": [
       "array([[150, 156, 162],\n",
       "       [366, 381, 396],\n",
       "       [582, 606, 630]])"
      ]
     },
     "execution_count": 233,
     "metadata": {},
     "output_type": "execute_result"
    }
   ],
   "source": [
    "#▪️ᴍᴀᴛʀɪx ᴍᴜʟᴛɪᴘɪᴄᴀᴛɪᴏɴ\n",
    "np.einsum('ij,jk',a,b)"
   ]
  },
  {
   "cell_type": "code",
   "execution_count": 234,
   "id": "bee0df1e-bf70-45c1-a549-6cc5f60806ab",
   "metadata": {},
   "outputs": [
    {
     "data": {
      "text/plain": [
       "15"
      ]
     },
     "execution_count": 234,
     "metadata": {},
     "output_type": "execute_result"
    }
   ],
   "source": [
    "##▪️ ꜱᴜᴍ ᴏꜰ ᴅɪᴀɢᴏɴᴀʟ\n",
    "np.einsum('ii',a)"
   ]
  },
  {
   "cell_type": "code",
   "execution_count": 235,
   "id": "6db829fa-6669-42f8-8a49-998f4203e0e3",
   "metadata": {},
   "outputs": [
    {
     "data": {
      "text/plain": [
       "(array([2, 0, 1, 0, 1, 0, 1, 0, 2, 1]),\n",
       " array([2. , 2.5, 3. , 3.5, 4. , 4.5, 5. , 5.5, 6. , 6.5, 7. ]))"
      ]
     },
     "execution_count": 235,
     "metadata": {},
     "output_type": "execute_result"
    }
   ],
   "source": [
    "#Histogram,It is an important statistical analysis function of NumPy that computes histogram values for a set of data.\n",
    "A = np.array([[3, 4, 5, 2],\n",
    "              [6, 7, 2, 6]])\n",
    "np.histogram(A)"
   ]
  },
  {
   "cell_type": "code",
   "execution_count": 236,
   "id": "653ea753-c025-492f-a806-6e9c65197e40",
   "metadata": {},
   "outputs": [
    {
     "data": {
      "text/plain": [
       "5.0"
      ]
     },
     "execution_count": 236,
     "metadata": {},
     "output_type": "execute_result"
    }
   ],
   "source": [
    "##Percentile,It computes the q-th percentile of the data along a specified axis.\n",
    "a = np.array([[2, 4, 6], [4, 8, 12]])\n",
    "np.percentile(a, 50)"
   ]
  },
  {
   "cell_type": "code",
   "execution_count": 237,
   "id": "24bfb9b7-89d2-407d-bd16-a6f47ff2695e",
   "metadata": {},
   "outputs": [
    {
     "data": {
      "text/plain": [
       "array([[ 2,  4,  6],\n",
       "       [ 4,  8, 12]])"
      ]
     },
     "execution_count": 237,
     "metadata": {},
     "output_type": "execute_result"
    }
   ],
   "source": [
    "# Standard Deviation and Variance\n",
    "#std and var are two functions of NumPy that calculates standard deviation and variance along an axis.\n",
    "a = np.array([[2, 4, 6], [4, 8, 12]])\n",
    "a"
   ]
  },
  {
   "cell_type": "code",
   "execution_count": 238,
   "id": "8b34010b-ae56-4833-8949-89091d954bde",
   "metadata": {},
   "outputs": [
    {
     "data": {
      "text/plain": [
       "array([1., 2., 3.])"
      ]
     },
     "execution_count": 238,
     "metadata": {},
     "output_type": "execute_result"
    }
   ],
   "source": [
    "#columnwise\n",
    "np.std(a,axis=0)"
   ]
  },
  {
   "cell_type": "code",
   "execution_count": 239,
   "id": "5be0b549-a492-41c8-b3e9-8fd5d67d64ce",
   "metadata": {},
   "outputs": [
    {
     "data": {
      "text/plain": [
       "array([1.63299316, 3.26598632])"
      ]
     },
     "execution_count": 239,
     "metadata": {},
     "output_type": "execute_result"
    }
   ],
   "source": [
    "#rowwise\n",
    "np.std(a,axis=1)"
   ]
  },
  {
   "cell_type": "code",
   "execution_count": 240,
   "id": "43d6ccf1-0df6-430f-84aa-3f8a41be41fa",
   "metadata": {},
   "outputs": [
    {
     "data": {
      "text/plain": [
       "array([ 2.66666667, 10.66666667])"
      ]
     },
     "execution_count": 240,
     "metadata": {},
     "output_type": "execute_result"
    }
   ],
   "source": [
    "np.var(a,axis=1)"
   ]
  },
  {
   "cell_type": "code",
   "execution_count": 241,
   "id": "f9bda3da-f550-461d-bcbd-cf058839ab6d",
   "metadata": {},
   "outputs": [
    {
     "data": {
      "text/plain": [
       "array([1., 4., 9.])"
      ]
     },
     "execution_count": 241,
     "metadata": {},
     "output_type": "execute_result"
    }
   ],
   "source": [
    "np.var(a,axis=0)"
   ]
  },
  {
   "cell_type": "code",
   "execution_count": 243,
   "id": "5e90ec0f-e525-4b28-9139-01ceb76b8876",
   "metadata": {},
   "outputs": [
    {
     "name": "stdout",
     "output_type": "stream",
     "text": [
      "[12.23 32.35]\n"
     ]
    }
   ],
   "source": [
    "#Show Floats With Two Decimal Values\n",
    "np.set_printoptions(precision=2)\n",
    "a = np.array([12.23456,32.34535])\n",
    "print(a)"
   ]
  },
  {
   "cell_type": "code",
   "execution_count": 244,
   "id": "5452e9f8-fdc2-4af5-80e5-513f287c48c0",
   "metadata": {},
   "outputs": [],
   "source": [
    "#Generate array with 500 elements '''\n",
    "\n",
    "arr = np.linspace(10,100,500).reshape(25,20) \n",
    "\n",
    "##◾ 𝗦𝗮𝘃𝗲𝘀 𝗔𝗿𝗿𝗮𝘆 𝗗𝗮𝘁𝗮 𝗜𝗻𝘀𝗶𝗱𝗲 𝗮 𝘁𝘅𝘁 𝗙𝗶𝗹𝗲\n",
    "np.savetxt('array.txt',arr)"
   ]
  },
  {
   "cell_type": "code",
   "execution_count": 245,
   "id": "948e78c4-979e-48be-872d-c33c9e1699dd",
   "metadata": {},
   "outputs": [
    {
     "data": {
      "text/plain": [
       "array([[ 10.  ,  10.18,  10.36,  10.54,  10.72,  10.9 ,  11.08,  11.26,\n",
       "         11.44,  11.62,  11.8 ,  11.98,  12.16,  12.34,  12.53,  12.71,\n",
       "         12.89,  13.07,  13.25,  13.43],\n",
       "       [ 13.61,  13.79,  13.97,  14.15,  14.33,  14.51,  14.69,  14.87,\n",
       "         15.05,  15.23,  15.41,  15.59,  15.77,  15.95,  16.13,  16.31,\n",
       "         16.49,  16.67,  16.85,  17.03],\n",
       "       [ 17.21,  17.39,  17.58,  17.76,  17.94,  18.12,  18.3 ,  18.48,\n",
       "         18.66,  18.84,  19.02,  19.2 ,  19.38,  19.56,  19.74,  19.92,\n",
       "         20.1 ,  20.28,  20.46,  20.64],\n",
       "       [ 20.82,  21.  ,  21.18,  21.36,  21.54,  21.72,  21.9 ,  22.08,\n",
       "         22.26,  22.44,  22.63,  22.81,  22.99,  23.17,  23.35,  23.53,\n",
       "         23.71,  23.89,  24.07,  24.25],\n",
       "       [ 24.43,  24.61,  24.79,  24.97,  25.15,  25.33,  25.51,  25.69,\n",
       "         25.87,  26.05,  26.23,  26.41,  26.59,  26.77,  26.95,  27.13,\n",
       "         27.31,  27.49,  27.68,  27.86],\n",
       "       [ 28.04,  28.22,  28.4 ,  28.58,  28.76,  28.94,  29.12,  29.3 ,\n",
       "         29.48,  29.66,  29.84,  30.02,  30.2 ,  30.38,  30.56,  30.74,\n",
       "         30.92,  31.1 ,  31.28,  31.46],\n",
       "       [ 31.64,  31.82,  32.  ,  32.18,  32.36,  32.55,  32.73,  32.91,\n",
       "         33.09,  33.27,  33.45,  33.63,  33.81,  33.99,  34.17,  34.35,\n",
       "         34.53,  34.71,  34.89,  35.07],\n",
       "       [ 35.25,  35.43,  35.61,  35.79,  35.97,  36.15,  36.33,  36.51,\n",
       "         36.69,  36.87,  37.05,  37.23,  37.41,  37.6 ,  37.78,  37.96,\n",
       "         38.14,  38.32,  38.5 ,  38.68],\n",
       "       [ 38.86,  39.04,  39.22,  39.4 ,  39.58,  39.76,  39.94,  40.12,\n",
       "         40.3 ,  40.48,  40.66,  40.84,  41.02,  41.2 ,  41.38,  41.56,\n",
       "         41.74,  41.92,  42.1 ,  42.28],\n",
       "       [ 42.46,  42.65,  42.83,  43.01,  43.19,  43.37,  43.55,  43.73,\n",
       "         43.91,  44.09,  44.27,  44.45,  44.63,  44.81,  44.99,  45.17,\n",
       "         45.35,  45.53,  45.71,  45.89],\n",
       "       [ 46.07,  46.25,  46.43,  46.61,  46.79,  46.97,  47.15,  47.33,\n",
       "         47.52,  47.7 ,  47.88,  48.06,  48.24,  48.42,  48.6 ,  48.78,\n",
       "         48.96,  49.14,  49.32,  49.5 ],\n",
       "       [ 49.68,  49.86,  50.04,  50.22,  50.4 ,  50.58,  50.76,  50.94,\n",
       "         51.12,  51.3 ,  51.48,  51.66,  51.84,  52.02,  52.2 ,  52.38,\n",
       "         52.57,  52.75,  52.93,  53.11],\n",
       "       [ 53.29,  53.47,  53.65,  53.83,  54.01,  54.19,  54.37,  54.55,\n",
       "         54.73,  54.91,  55.09,  55.27,  55.45,  55.63,  55.81,  55.99,\n",
       "         56.17,  56.35,  56.53,  56.71],\n",
       "       [ 56.89,  57.07,  57.25,  57.43,  57.62,  57.8 ,  57.98,  58.16,\n",
       "         58.34,  58.52,  58.7 ,  58.88,  59.06,  59.24,  59.42,  59.6 ,\n",
       "         59.78,  59.96,  60.14,  60.32],\n",
       "       [ 60.5 ,  60.68,  60.86,  61.04,  61.22,  61.4 ,  61.58,  61.76,\n",
       "         61.94,  62.12,  62.3 ,  62.48,  62.67,  62.85,  63.03,  63.21,\n",
       "         63.39,  63.57,  63.75,  63.93],\n",
       "       [ 64.11,  64.29,  64.47,  64.65,  64.83,  65.01,  65.19,  65.37,\n",
       "         65.55,  65.73,  65.91,  66.09,  66.27,  66.45,  66.63,  66.81,\n",
       "         66.99,  67.17,  67.35,  67.54],\n",
       "       [ 67.72,  67.9 ,  68.08,  68.26,  68.44,  68.62,  68.8 ,  68.98,\n",
       "         69.16,  69.34,  69.52,  69.7 ,  69.88,  70.06,  70.24,  70.42,\n",
       "         70.6 ,  70.78,  70.96,  71.14],\n",
       "       [ 71.32,  71.5 ,  71.68,  71.86,  72.04,  72.22,  72.4 ,  72.59,\n",
       "         72.77,  72.95,  73.13,  73.31,  73.49,  73.67,  73.85,  74.03,\n",
       "         74.21,  74.39,  74.57,  74.75],\n",
       "       [ 74.93,  75.11,  75.29,  75.47,  75.65,  75.83,  76.01,  76.19,\n",
       "         76.37,  76.55,  76.73,  76.91,  77.09,  77.27,  77.45,  77.64,\n",
       "         77.82,  78.  ,  78.18,  78.36],\n",
       "       [ 78.54,  78.72,  78.9 ,  79.08,  79.26,  79.44,  79.62,  79.8 ,\n",
       "         79.98,  80.16,  80.34,  80.52,  80.7 ,  80.88,  81.06,  81.24,\n",
       "         81.42,  81.6 ,  81.78,  81.96],\n",
       "       [ 82.14,  82.32,  82.51,  82.69,  82.87,  83.05,  83.23,  83.41,\n",
       "         83.59,  83.77,  83.95,  84.13,  84.31,  84.49,  84.67,  84.85,\n",
       "         85.03,  85.21,  85.39,  85.57],\n",
       "       [ 85.75,  85.93,  86.11,  86.29,  86.47,  86.65,  86.83,  87.01,\n",
       "         87.19,  87.37,  87.56,  87.74,  87.92,  88.1 ,  88.28,  88.46,\n",
       "         88.64,  88.82,  89.  ,  89.18],\n",
       "       [ 89.36,  89.54,  89.72,  89.9 ,  90.08,  90.26,  90.44,  90.62,\n",
       "         90.8 ,  90.98,  91.16,  91.34,  91.52,  91.7 ,  91.88,  92.06,\n",
       "         92.24,  92.42,  92.61,  92.79],\n",
       "       [ 92.97,  93.15,  93.33,  93.51,  93.69,  93.87,  94.05,  94.23,\n",
       "         94.41,  94.59,  94.77,  94.95,  95.13,  95.31,  95.49,  95.67,\n",
       "         95.85,  96.03,  96.21,  96.39],\n",
       "       [ 96.57,  96.75,  96.93,  97.11,  97.29,  97.47,  97.66,  97.84,\n",
       "         98.02,  98.2 ,  98.38,  98.56,  98.74,  98.92,  99.1 ,  99.28,\n",
       "         99.46,  99.64,  99.82, 100.  ]])"
      ]
     },
     "execution_count": 245,
     "metadata": {},
     "output_type": "execute_result"
    }
   ],
   "source": [
    "#Load\n",
    "#loadtxt used to load the content of an array from a text file.\n",
    "np.loadtxt('array.txt')"
   ]
  },
  {
   "cell_type": "code",
   "execution_count": null,
   "id": "2309576c-859f-45ec-91c0-a8bbcc5721c1",
   "metadata": {},
   "outputs": [],
   "source": []
  }
 ],
 "metadata": {
  "kernelspec": {
   "display_name": "Python 3 (ipykernel)",
   "language": "python",
   "name": "python3"
  },
  "language_info": {
   "codemirror_mode": {
    "name": "ipython",
    "version": 3
   },
   "file_extension": ".py",
   "mimetype": "text/x-python",
   "name": "python",
   "nbconvert_exporter": "python",
   "pygments_lexer": "ipython3",
   "version": "3.10.9"
  },
  "toc-autonumbering": true,
  "toc-showcode": true
 },
 "nbformat": 4,
 "nbformat_minor": 5
}
